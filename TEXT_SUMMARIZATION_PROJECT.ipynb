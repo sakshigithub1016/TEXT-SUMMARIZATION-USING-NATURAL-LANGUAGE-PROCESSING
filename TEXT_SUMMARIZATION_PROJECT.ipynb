{
  "nbformat": 4,
  "nbformat_minor": 0,
  "metadata": {
    "colab": {
      "provenance": [],
      "gpuType": "T4"
    },
    "kernelspec": {
      "name": "python3",
      "display_name": "Python 3"
    },
    "language_info": {
      "name": "python"
    },
    "accelerator": "GPU",
    "widgets": {
      "application/vnd.jupyter.widget-state+json": {
        "ce13767bf40b445baa62d7b8e92c7c1a": {
          "model_module": "@jupyter-widgets/controls",
          "model_name": "HBoxModel",
          "model_module_version": "1.5.0",
          "state": {
            "_dom_classes": [],
            "_model_module": "@jupyter-widgets/controls",
            "_model_module_version": "1.5.0",
            "_model_name": "HBoxModel",
            "_view_count": null,
            "_view_module": "@jupyter-widgets/controls",
            "_view_module_version": "1.5.0",
            "_view_name": "HBoxView",
            "box_style": "",
            "children": [
              "IPY_MODEL_08b4e2867d4848bc8ba36bd675f1115c",
              "IPY_MODEL_965176111cf04c1d8ad96e6bbc5ff6e5",
              "IPY_MODEL_a4d4cbe2e50a4d3287bc9163a4101e1e"
            ],
            "layout": "IPY_MODEL_882add441ca3481cb7133f10cf5c4d69"
          }
        },
        "08b4e2867d4848bc8ba36bd675f1115c": {
          "model_module": "@jupyter-widgets/controls",
          "model_name": "HTMLModel",
          "model_module_version": "1.5.0",
          "state": {
            "_dom_classes": [],
            "_model_module": "@jupyter-widgets/controls",
            "_model_module_version": "1.5.0",
            "_model_name": "HTMLModel",
            "_view_count": null,
            "_view_module": "@jupyter-widgets/controls",
            "_view_module_version": "1.5.0",
            "_view_name": "HTMLView",
            "description": "",
            "description_tooltip": null,
            "layout": "IPY_MODEL_b1c32ca64ddf4592bccca721d558ae7f",
            "placeholder": "​",
            "style": "IPY_MODEL_d2577187963f41ce9d3f2bad06c866d3",
            "value": "config.json: 100%"
          }
        },
        "965176111cf04c1d8ad96e6bbc5ff6e5": {
          "model_module": "@jupyter-widgets/controls",
          "model_name": "FloatProgressModel",
          "model_module_version": "1.5.0",
          "state": {
            "_dom_classes": [],
            "_model_module": "@jupyter-widgets/controls",
            "_model_module_version": "1.5.0",
            "_model_name": "FloatProgressModel",
            "_view_count": null,
            "_view_module": "@jupyter-widgets/controls",
            "_view_module_version": "1.5.0",
            "_view_name": "ProgressView",
            "bar_style": "success",
            "description": "",
            "description_tooltip": null,
            "layout": "IPY_MODEL_3f76f08fd9d44998acc19333e06e3ac8",
            "max": 1208,
            "min": 0,
            "orientation": "horizontal",
            "style": "IPY_MODEL_c336554a724d470dae9457c8eeb26ea3",
            "value": 1208
          }
        },
        "a4d4cbe2e50a4d3287bc9163a4101e1e": {
          "model_module": "@jupyter-widgets/controls",
          "model_name": "HTMLModel",
          "model_module_version": "1.5.0",
          "state": {
            "_dom_classes": [],
            "_model_module": "@jupyter-widgets/controls",
            "_model_module_version": "1.5.0",
            "_model_name": "HTMLModel",
            "_view_count": null,
            "_view_module": "@jupyter-widgets/controls",
            "_view_module_version": "1.5.0",
            "_view_name": "HTMLView",
            "description": "",
            "description_tooltip": null,
            "layout": "IPY_MODEL_ad2560fbe8024bcbbcbde038e5366745",
            "placeholder": "​",
            "style": "IPY_MODEL_6067659bca6840f2831a8f1770b10309",
            "value": " 1.21k/1.21k [00:00&lt;00:00, 49.4kB/s]"
          }
        },
        "882add441ca3481cb7133f10cf5c4d69": {
          "model_module": "@jupyter-widgets/base",
          "model_name": "LayoutModel",
          "model_module_version": "1.2.0",
          "state": {
            "_model_module": "@jupyter-widgets/base",
            "_model_module_version": "1.2.0",
            "_model_name": "LayoutModel",
            "_view_count": null,
            "_view_module": "@jupyter-widgets/base",
            "_view_module_version": "1.2.0",
            "_view_name": "LayoutView",
            "align_content": null,
            "align_items": null,
            "align_self": null,
            "border": null,
            "bottom": null,
            "display": null,
            "flex": null,
            "flex_flow": null,
            "grid_area": null,
            "grid_auto_columns": null,
            "grid_auto_flow": null,
            "grid_auto_rows": null,
            "grid_column": null,
            "grid_gap": null,
            "grid_row": null,
            "grid_template_areas": null,
            "grid_template_columns": null,
            "grid_template_rows": null,
            "height": null,
            "justify_content": null,
            "justify_items": null,
            "left": null,
            "margin": null,
            "max_height": null,
            "max_width": null,
            "min_height": null,
            "min_width": null,
            "object_fit": null,
            "object_position": null,
            "order": null,
            "overflow": null,
            "overflow_x": null,
            "overflow_y": null,
            "padding": null,
            "right": null,
            "top": null,
            "visibility": null,
            "width": null
          }
        },
        "b1c32ca64ddf4592bccca721d558ae7f": {
          "model_module": "@jupyter-widgets/base",
          "model_name": "LayoutModel",
          "model_module_version": "1.2.0",
          "state": {
            "_model_module": "@jupyter-widgets/base",
            "_model_module_version": "1.2.0",
            "_model_name": "LayoutModel",
            "_view_count": null,
            "_view_module": "@jupyter-widgets/base",
            "_view_module_version": "1.2.0",
            "_view_name": "LayoutView",
            "align_content": null,
            "align_items": null,
            "align_self": null,
            "border": null,
            "bottom": null,
            "display": null,
            "flex": null,
            "flex_flow": null,
            "grid_area": null,
            "grid_auto_columns": null,
            "grid_auto_flow": null,
            "grid_auto_rows": null,
            "grid_column": null,
            "grid_gap": null,
            "grid_row": null,
            "grid_template_areas": null,
            "grid_template_columns": null,
            "grid_template_rows": null,
            "height": null,
            "justify_content": null,
            "justify_items": null,
            "left": null,
            "margin": null,
            "max_height": null,
            "max_width": null,
            "min_height": null,
            "min_width": null,
            "object_fit": null,
            "object_position": null,
            "order": null,
            "overflow": null,
            "overflow_x": null,
            "overflow_y": null,
            "padding": null,
            "right": null,
            "top": null,
            "visibility": null,
            "width": null
          }
        },
        "d2577187963f41ce9d3f2bad06c866d3": {
          "model_module": "@jupyter-widgets/controls",
          "model_name": "DescriptionStyleModel",
          "model_module_version": "1.5.0",
          "state": {
            "_model_module": "@jupyter-widgets/controls",
            "_model_module_version": "1.5.0",
            "_model_name": "DescriptionStyleModel",
            "_view_count": null,
            "_view_module": "@jupyter-widgets/base",
            "_view_module_version": "1.2.0",
            "_view_name": "StyleView",
            "description_width": ""
          }
        },
        "3f76f08fd9d44998acc19333e06e3ac8": {
          "model_module": "@jupyter-widgets/base",
          "model_name": "LayoutModel",
          "model_module_version": "1.2.0",
          "state": {
            "_model_module": "@jupyter-widgets/base",
            "_model_module_version": "1.2.0",
            "_model_name": "LayoutModel",
            "_view_count": null,
            "_view_module": "@jupyter-widgets/base",
            "_view_module_version": "1.2.0",
            "_view_name": "LayoutView",
            "align_content": null,
            "align_items": null,
            "align_self": null,
            "border": null,
            "bottom": null,
            "display": null,
            "flex": null,
            "flex_flow": null,
            "grid_area": null,
            "grid_auto_columns": null,
            "grid_auto_flow": null,
            "grid_auto_rows": null,
            "grid_column": null,
            "grid_gap": null,
            "grid_row": null,
            "grid_template_areas": null,
            "grid_template_columns": null,
            "grid_template_rows": null,
            "height": null,
            "justify_content": null,
            "justify_items": null,
            "left": null,
            "margin": null,
            "max_height": null,
            "max_width": null,
            "min_height": null,
            "min_width": null,
            "object_fit": null,
            "object_position": null,
            "order": null,
            "overflow": null,
            "overflow_x": null,
            "overflow_y": null,
            "padding": null,
            "right": null,
            "top": null,
            "visibility": null,
            "width": null
          }
        },
        "c336554a724d470dae9457c8eeb26ea3": {
          "model_module": "@jupyter-widgets/controls",
          "model_name": "ProgressStyleModel",
          "model_module_version": "1.5.0",
          "state": {
            "_model_module": "@jupyter-widgets/controls",
            "_model_module_version": "1.5.0",
            "_model_name": "ProgressStyleModel",
            "_view_count": null,
            "_view_module": "@jupyter-widgets/base",
            "_view_module_version": "1.2.0",
            "_view_name": "StyleView",
            "bar_color": null,
            "description_width": ""
          }
        },
        "ad2560fbe8024bcbbcbde038e5366745": {
          "model_module": "@jupyter-widgets/base",
          "model_name": "LayoutModel",
          "model_module_version": "1.2.0",
          "state": {
            "_model_module": "@jupyter-widgets/base",
            "_model_module_version": "1.2.0",
            "_model_name": "LayoutModel",
            "_view_count": null,
            "_view_module": "@jupyter-widgets/base",
            "_view_module_version": "1.2.0",
            "_view_name": "LayoutView",
            "align_content": null,
            "align_items": null,
            "align_self": null,
            "border": null,
            "bottom": null,
            "display": null,
            "flex": null,
            "flex_flow": null,
            "grid_area": null,
            "grid_auto_columns": null,
            "grid_auto_flow": null,
            "grid_auto_rows": null,
            "grid_column": null,
            "grid_gap": null,
            "grid_row": null,
            "grid_template_areas": null,
            "grid_template_columns": null,
            "grid_template_rows": null,
            "height": null,
            "justify_content": null,
            "justify_items": null,
            "left": null,
            "margin": null,
            "max_height": null,
            "max_width": null,
            "min_height": null,
            "min_width": null,
            "object_fit": null,
            "object_position": null,
            "order": null,
            "overflow": null,
            "overflow_x": null,
            "overflow_y": null,
            "padding": null,
            "right": null,
            "top": null,
            "visibility": null,
            "width": null
          }
        },
        "6067659bca6840f2831a8f1770b10309": {
          "model_module": "@jupyter-widgets/controls",
          "model_name": "DescriptionStyleModel",
          "model_module_version": "1.5.0",
          "state": {
            "_model_module": "@jupyter-widgets/controls",
            "_model_module_version": "1.5.0",
            "_model_name": "DescriptionStyleModel",
            "_view_count": null,
            "_view_module": "@jupyter-widgets/base",
            "_view_module_version": "1.2.0",
            "_view_name": "StyleView",
            "description_width": ""
          }
        },
        "114fb64072e24d708de2876322197424": {
          "model_module": "@jupyter-widgets/controls",
          "model_name": "HBoxModel",
          "model_module_version": "1.5.0",
          "state": {
            "_dom_classes": [],
            "_model_module": "@jupyter-widgets/controls",
            "_model_module_version": "1.5.0",
            "_model_name": "HBoxModel",
            "_view_count": null,
            "_view_module": "@jupyter-widgets/controls",
            "_view_module_version": "1.5.0",
            "_view_name": "HBoxView",
            "box_style": "",
            "children": [
              "IPY_MODEL_455b8bb94fdb43eaa156e817e7c98d2e",
              "IPY_MODEL_f42bd4f2103d425dbf8da5c16b957903",
              "IPY_MODEL_6543069f87ec4854a15d1e1b0b78d1d5"
            ],
            "layout": "IPY_MODEL_2eb649fd3fd34b8f89b64a52cc523ee3"
          }
        },
        "455b8bb94fdb43eaa156e817e7c98d2e": {
          "model_module": "@jupyter-widgets/controls",
          "model_name": "HTMLModel",
          "model_module_version": "1.5.0",
          "state": {
            "_dom_classes": [],
            "_model_module": "@jupyter-widgets/controls",
            "_model_module_version": "1.5.0",
            "_model_name": "HTMLModel",
            "_view_count": null,
            "_view_module": "@jupyter-widgets/controls",
            "_view_module_version": "1.5.0",
            "_view_name": "HTMLView",
            "description": "",
            "description_tooltip": null,
            "layout": "IPY_MODEL_a856208f1e19477e8487e96077564c22",
            "placeholder": "​",
            "style": "IPY_MODEL_86c8cea610c041a9ad322d55362cf977",
            "value": "model.safetensors: 100%"
          }
        },
        "f42bd4f2103d425dbf8da5c16b957903": {
          "model_module": "@jupyter-widgets/controls",
          "model_name": "FloatProgressModel",
          "model_module_version": "1.5.0",
          "state": {
            "_dom_classes": [],
            "_model_module": "@jupyter-widgets/controls",
            "_model_module_version": "1.5.0",
            "_model_name": "FloatProgressModel",
            "_view_count": null,
            "_view_module": "@jupyter-widgets/controls",
            "_view_module_version": "1.5.0",
            "_view_name": "ProgressView",
            "bar_style": "success",
            "description": "",
            "description_tooltip": null,
            "layout": "IPY_MODEL_f474093d82214dc3a4b7704a97e2fe27",
            "max": 891646390,
            "min": 0,
            "orientation": "horizontal",
            "style": "IPY_MODEL_ceb3bd2004654a48a7c3493b8689badc",
            "value": 891646390
          }
        },
        "6543069f87ec4854a15d1e1b0b78d1d5": {
          "model_module": "@jupyter-widgets/controls",
          "model_name": "HTMLModel",
          "model_module_version": "1.5.0",
          "state": {
            "_dom_classes": [],
            "_model_module": "@jupyter-widgets/controls",
            "_model_module_version": "1.5.0",
            "_model_name": "HTMLModel",
            "_view_count": null,
            "_view_module": "@jupyter-widgets/controls",
            "_view_module_version": "1.5.0",
            "_view_name": "HTMLView",
            "description": "",
            "description_tooltip": null,
            "layout": "IPY_MODEL_e39a144c99b0415e9a1a618ba4588da5",
            "placeholder": "​",
            "style": "IPY_MODEL_5428b5490a464024a4399dad573dc6b2",
            "value": " 892M/892M [00:21&lt;00:00, 48.5MB/s]"
          }
        },
        "2eb649fd3fd34b8f89b64a52cc523ee3": {
          "model_module": "@jupyter-widgets/base",
          "model_name": "LayoutModel",
          "model_module_version": "1.2.0",
          "state": {
            "_model_module": "@jupyter-widgets/base",
            "_model_module_version": "1.2.0",
            "_model_name": "LayoutModel",
            "_view_count": null,
            "_view_module": "@jupyter-widgets/base",
            "_view_module_version": "1.2.0",
            "_view_name": "LayoutView",
            "align_content": null,
            "align_items": null,
            "align_self": null,
            "border": null,
            "bottom": null,
            "display": null,
            "flex": null,
            "flex_flow": null,
            "grid_area": null,
            "grid_auto_columns": null,
            "grid_auto_flow": null,
            "grid_auto_rows": null,
            "grid_column": null,
            "grid_gap": null,
            "grid_row": null,
            "grid_template_areas": null,
            "grid_template_columns": null,
            "grid_template_rows": null,
            "height": null,
            "justify_content": null,
            "justify_items": null,
            "left": null,
            "margin": null,
            "max_height": null,
            "max_width": null,
            "min_height": null,
            "min_width": null,
            "object_fit": null,
            "object_position": null,
            "order": null,
            "overflow": null,
            "overflow_x": null,
            "overflow_y": null,
            "padding": null,
            "right": null,
            "top": null,
            "visibility": null,
            "width": null
          }
        },
        "a856208f1e19477e8487e96077564c22": {
          "model_module": "@jupyter-widgets/base",
          "model_name": "LayoutModel",
          "model_module_version": "1.2.0",
          "state": {
            "_model_module": "@jupyter-widgets/base",
            "_model_module_version": "1.2.0",
            "_model_name": "LayoutModel",
            "_view_count": null,
            "_view_module": "@jupyter-widgets/base",
            "_view_module_version": "1.2.0",
            "_view_name": "LayoutView",
            "align_content": null,
            "align_items": null,
            "align_self": null,
            "border": null,
            "bottom": null,
            "display": null,
            "flex": null,
            "flex_flow": null,
            "grid_area": null,
            "grid_auto_columns": null,
            "grid_auto_flow": null,
            "grid_auto_rows": null,
            "grid_column": null,
            "grid_gap": null,
            "grid_row": null,
            "grid_template_areas": null,
            "grid_template_columns": null,
            "grid_template_rows": null,
            "height": null,
            "justify_content": null,
            "justify_items": null,
            "left": null,
            "margin": null,
            "max_height": null,
            "max_width": null,
            "min_height": null,
            "min_width": null,
            "object_fit": null,
            "object_position": null,
            "order": null,
            "overflow": null,
            "overflow_x": null,
            "overflow_y": null,
            "padding": null,
            "right": null,
            "top": null,
            "visibility": null,
            "width": null
          }
        },
        "86c8cea610c041a9ad322d55362cf977": {
          "model_module": "@jupyter-widgets/controls",
          "model_name": "DescriptionStyleModel",
          "model_module_version": "1.5.0",
          "state": {
            "_model_module": "@jupyter-widgets/controls",
            "_model_module_version": "1.5.0",
            "_model_name": "DescriptionStyleModel",
            "_view_count": null,
            "_view_module": "@jupyter-widgets/base",
            "_view_module_version": "1.2.0",
            "_view_name": "StyleView",
            "description_width": ""
          }
        },
        "f474093d82214dc3a4b7704a97e2fe27": {
          "model_module": "@jupyter-widgets/base",
          "model_name": "LayoutModel",
          "model_module_version": "1.2.0",
          "state": {
            "_model_module": "@jupyter-widgets/base",
            "_model_module_version": "1.2.0",
            "_model_name": "LayoutModel",
            "_view_count": null,
            "_view_module": "@jupyter-widgets/base",
            "_view_module_version": "1.2.0",
            "_view_name": "LayoutView",
            "align_content": null,
            "align_items": null,
            "align_self": null,
            "border": null,
            "bottom": null,
            "display": null,
            "flex": null,
            "flex_flow": null,
            "grid_area": null,
            "grid_auto_columns": null,
            "grid_auto_flow": null,
            "grid_auto_rows": null,
            "grid_column": null,
            "grid_gap": null,
            "grid_row": null,
            "grid_template_areas": null,
            "grid_template_columns": null,
            "grid_template_rows": null,
            "height": null,
            "justify_content": null,
            "justify_items": null,
            "left": null,
            "margin": null,
            "max_height": null,
            "max_width": null,
            "min_height": null,
            "min_width": null,
            "object_fit": null,
            "object_position": null,
            "order": null,
            "overflow": null,
            "overflow_x": null,
            "overflow_y": null,
            "padding": null,
            "right": null,
            "top": null,
            "visibility": null,
            "width": null
          }
        },
        "ceb3bd2004654a48a7c3493b8689badc": {
          "model_module": "@jupyter-widgets/controls",
          "model_name": "ProgressStyleModel",
          "model_module_version": "1.5.0",
          "state": {
            "_model_module": "@jupyter-widgets/controls",
            "_model_module_version": "1.5.0",
            "_model_name": "ProgressStyleModel",
            "_view_count": null,
            "_view_module": "@jupyter-widgets/base",
            "_view_module_version": "1.2.0",
            "_view_name": "StyleView",
            "bar_color": null,
            "description_width": ""
          }
        },
        "e39a144c99b0415e9a1a618ba4588da5": {
          "model_module": "@jupyter-widgets/base",
          "model_name": "LayoutModel",
          "model_module_version": "1.2.0",
          "state": {
            "_model_module": "@jupyter-widgets/base",
            "_model_module_version": "1.2.0",
            "_model_name": "LayoutModel",
            "_view_count": null,
            "_view_module": "@jupyter-widgets/base",
            "_view_module_version": "1.2.0",
            "_view_name": "LayoutView",
            "align_content": null,
            "align_items": null,
            "align_self": null,
            "border": null,
            "bottom": null,
            "display": null,
            "flex": null,
            "flex_flow": null,
            "grid_area": null,
            "grid_auto_columns": null,
            "grid_auto_flow": null,
            "grid_auto_rows": null,
            "grid_column": null,
            "grid_gap": null,
            "grid_row": null,
            "grid_template_areas": null,
            "grid_template_columns": null,
            "grid_template_rows": null,
            "height": null,
            "justify_content": null,
            "justify_items": null,
            "left": null,
            "margin": null,
            "max_height": null,
            "max_width": null,
            "min_height": null,
            "min_width": null,
            "object_fit": null,
            "object_position": null,
            "order": null,
            "overflow": null,
            "overflow_x": null,
            "overflow_y": null,
            "padding": null,
            "right": null,
            "top": null,
            "visibility": null,
            "width": null
          }
        },
        "5428b5490a464024a4399dad573dc6b2": {
          "model_module": "@jupyter-widgets/controls",
          "model_name": "DescriptionStyleModel",
          "model_module_version": "1.5.0",
          "state": {
            "_model_module": "@jupyter-widgets/controls",
            "_model_module_version": "1.5.0",
            "_model_name": "DescriptionStyleModel",
            "_view_count": null,
            "_view_module": "@jupyter-widgets/base",
            "_view_module_version": "1.2.0",
            "_view_name": "StyleView",
            "description_width": ""
          }
        },
        "262036f4ad2647579c657d0c1b6f4fa1": {
          "model_module": "@jupyter-widgets/controls",
          "model_name": "HBoxModel",
          "model_module_version": "1.5.0",
          "state": {
            "_dom_classes": [],
            "_model_module": "@jupyter-widgets/controls",
            "_model_module_version": "1.5.0",
            "_model_name": "HBoxModel",
            "_view_count": null,
            "_view_module": "@jupyter-widgets/controls",
            "_view_module_version": "1.5.0",
            "_view_name": "HBoxView",
            "box_style": "",
            "children": [
              "IPY_MODEL_3a828a09a1a046a9918537ae5296b05c",
              "IPY_MODEL_d2d45b1a959f467cae5ee258f291574d",
              "IPY_MODEL_e2f001d8191a4a1ca6cee82b710a8ec5"
            ],
            "layout": "IPY_MODEL_8d71d0d5715f4e118741cd0d35153ae2"
          }
        },
        "3a828a09a1a046a9918537ae5296b05c": {
          "model_module": "@jupyter-widgets/controls",
          "model_name": "HTMLModel",
          "model_module_version": "1.5.0",
          "state": {
            "_dom_classes": [],
            "_model_module": "@jupyter-widgets/controls",
            "_model_module_version": "1.5.0",
            "_model_name": "HTMLModel",
            "_view_count": null,
            "_view_module": "@jupyter-widgets/controls",
            "_view_module_version": "1.5.0",
            "_view_name": "HTMLView",
            "description": "",
            "description_tooltip": null,
            "layout": "IPY_MODEL_7923f81b126340b893ecb79bd9b74c67",
            "placeholder": "​",
            "style": "IPY_MODEL_077a7dc5da16412ab05983d1a8e2c6d3",
            "value": "generation_config.json: 100%"
          }
        },
        "d2d45b1a959f467cae5ee258f291574d": {
          "model_module": "@jupyter-widgets/controls",
          "model_name": "FloatProgressModel",
          "model_module_version": "1.5.0",
          "state": {
            "_dom_classes": [],
            "_model_module": "@jupyter-widgets/controls",
            "_model_module_version": "1.5.0",
            "_model_name": "FloatProgressModel",
            "_view_count": null,
            "_view_module": "@jupyter-widgets/controls",
            "_view_module_version": "1.5.0",
            "_view_name": "ProgressView",
            "bar_style": "success",
            "description": "",
            "description_tooltip": null,
            "layout": "IPY_MODEL_9251959206c64420b569cc27a55c6dfb",
            "max": 147,
            "min": 0,
            "orientation": "horizontal",
            "style": "IPY_MODEL_8b861f83a99d458a977cfa4fff68706a",
            "value": 147
          }
        },
        "e2f001d8191a4a1ca6cee82b710a8ec5": {
          "model_module": "@jupyter-widgets/controls",
          "model_name": "HTMLModel",
          "model_module_version": "1.5.0",
          "state": {
            "_dom_classes": [],
            "_model_module": "@jupyter-widgets/controls",
            "_model_module_version": "1.5.0",
            "_model_name": "HTMLModel",
            "_view_count": null,
            "_view_module": "@jupyter-widgets/controls",
            "_view_module_version": "1.5.0",
            "_view_name": "HTMLView",
            "description": "",
            "description_tooltip": null,
            "layout": "IPY_MODEL_17940dc61f4f41c08c766bc77d1c8fbb",
            "placeholder": "​",
            "style": "IPY_MODEL_dfdf01df41e34c81b45c17d624b7da89",
            "value": " 147/147 [00:00&lt;00:00, 5.26kB/s]"
          }
        },
        "8d71d0d5715f4e118741cd0d35153ae2": {
          "model_module": "@jupyter-widgets/base",
          "model_name": "LayoutModel",
          "model_module_version": "1.2.0",
          "state": {
            "_model_module": "@jupyter-widgets/base",
            "_model_module_version": "1.2.0",
            "_model_name": "LayoutModel",
            "_view_count": null,
            "_view_module": "@jupyter-widgets/base",
            "_view_module_version": "1.2.0",
            "_view_name": "LayoutView",
            "align_content": null,
            "align_items": null,
            "align_self": null,
            "border": null,
            "bottom": null,
            "display": null,
            "flex": null,
            "flex_flow": null,
            "grid_area": null,
            "grid_auto_columns": null,
            "grid_auto_flow": null,
            "grid_auto_rows": null,
            "grid_column": null,
            "grid_gap": null,
            "grid_row": null,
            "grid_template_areas": null,
            "grid_template_columns": null,
            "grid_template_rows": null,
            "height": null,
            "justify_content": null,
            "justify_items": null,
            "left": null,
            "margin": null,
            "max_height": null,
            "max_width": null,
            "min_height": null,
            "min_width": null,
            "object_fit": null,
            "object_position": null,
            "order": null,
            "overflow": null,
            "overflow_x": null,
            "overflow_y": null,
            "padding": null,
            "right": null,
            "top": null,
            "visibility": null,
            "width": null
          }
        },
        "7923f81b126340b893ecb79bd9b74c67": {
          "model_module": "@jupyter-widgets/base",
          "model_name": "LayoutModel",
          "model_module_version": "1.2.0",
          "state": {
            "_model_module": "@jupyter-widgets/base",
            "_model_module_version": "1.2.0",
            "_model_name": "LayoutModel",
            "_view_count": null,
            "_view_module": "@jupyter-widgets/base",
            "_view_module_version": "1.2.0",
            "_view_name": "LayoutView",
            "align_content": null,
            "align_items": null,
            "align_self": null,
            "border": null,
            "bottom": null,
            "display": null,
            "flex": null,
            "flex_flow": null,
            "grid_area": null,
            "grid_auto_columns": null,
            "grid_auto_flow": null,
            "grid_auto_rows": null,
            "grid_column": null,
            "grid_gap": null,
            "grid_row": null,
            "grid_template_areas": null,
            "grid_template_columns": null,
            "grid_template_rows": null,
            "height": null,
            "justify_content": null,
            "justify_items": null,
            "left": null,
            "margin": null,
            "max_height": null,
            "max_width": null,
            "min_height": null,
            "min_width": null,
            "object_fit": null,
            "object_position": null,
            "order": null,
            "overflow": null,
            "overflow_x": null,
            "overflow_y": null,
            "padding": null,
            "right": null,
            "top": null,
            "visibility": null,
            "width": null
          }
        },
        "077a7dc5da16412ab05983d1a8e2c6d3": {
          "model_module": "@jupyter-widgets/controls",
          "model_name": "DescriptionStyleModel",
          "model_module_version": "1.5.0",
          "state": {
            "_model_module": "@jupyter-widgets/controls",
            "_model_module_version": "1.5.0",
            "_model_name": "DescriptionStyleModel",
            "_view_count": null,
            "_view_module": "@jupyter-widgets/base",
            "_view_module_version": "1.2.0",
            "_view_name": "StyleView",
            "description_width": ""
          }
        },
        "9251959206c64420b569cc27a55c6dfb": {
          "model_module": "@jupyter-widgets/base",
          "model_name": "LayoutModel",
          "model_module_version": "1.2.0",
          "state": {
            "_model_module": "@jupyter-widgets/base",
            "_model_module_version": "1.2.0",
            "_model_name": "LayoutModel",
            "_view_count": null,
            "_view_module": "@jupyter-widgets/base",
            "_view_module_version": "1.2.0",
            "_view_name": "LayoutView",
            "align_content": null,
            "align_items": null,
            "align_self": null,
            "border": null,
            "bottom": null,
            "display": null,
            "flex": null,
            "flex_flow": null,
            "grid_area": null,
            "grid_auto_columns": null,
            "grid_auto_flow": null,
            "grid_auto_rows": null,
            "grid_column": null,
            "grid_gap": null,
            "grid_row": null,
            "grid_template_areas": null,
            "grid_template_columns": null,
            "grid_template_rows": null,
            "height": null,
            "justify_content": null,
            "justify_items": null,
            "left": null,
            "margin": null,
            "max_height": null,
            "max_width": null,
            "min_height": null,
            "min_width": null,
            "object_fit": null,
            "object_position": null,
            "order": null,
            "overflow": null,
            "overflow_x": null,
            "overflow_y": null,
            "padding": null,
            "right": null,
            "top": null,
            "visibility": null,
            "width": null
          }
        },
        "8b861f83a99d458a977cfa4fff68706a": {
          "model_module": "@jupyter-widgets/controls",
          "model_name": "ProgressStyleModel",
          "model_module_version": "1.5.0",
          "state": {
            "_model_module": "@jupyter-widgets/controls",
            "_model_module_version": "1.5.0",
            "_model_name": "ProgressStyleModel",
            "_view_count": null,
            "_view_module": "@jupyter-widgets/base",
            "_view_module_version": "1.2.0",
            "_view_name": "StyleView",
            "bar_color": null,
            "description_width": ""
          }
        },
        "17940dc61f4f41c08c766bc77d1c8fbb": {
          "model_module": "@jupyter-widgets/base",
          "model_name": "LayoutModel",
          "model_module_version": "1.2.0",
          "state": {
            "_model_module": "@jupyter-widgets/base",
            "_model_module_version": "1.2.0",
            "_model_name": "LayoutModel",
            "_view_count": null,
            "_view_module": "@jupyter-widgets/base",
            "_view_module_version": "1.2.0",
            "_view_name": "LayoutView",
            "align_content": null,
            "align_items": null,
            "align_self": null,
            "border": null,
            "bottom": null,
            "display": null,
            "flex": null,
            "flex_flow": null,
            "grid_area": null,
            "grid_auto_columns": null,
            "grid_auto_flow": null,
            "grid_auto_rows": null,
            "grid_column": null,
            "grid_gap": null,
            "grid_row": null,
            "grid_template_areas": null,
            "grid_template_columns": null,
            "grid_template_rows": null,
            "height": null,
            "justify_content": null,
            "justify_items": null,
            "left": null,
            "margin": null,
            "max_height": null,
            "max_width": null,
            "min_height": null,
            "min_width": null,
            "object_fit": null,
            "object_position": null,
            "order": null,
            "overflow": null,
            "overflow_x": null,
            "overflow_y": null,
            "padding": null,
            "right": null,
            "top": null,
            "visibility": null,
            "width": null
          }
        },
        "dfdf01df41e34c81b45c17d624b7da89": {
          "model_module": "@jupyter-widgets/controls",
          "model_name": "DescriptionStyleModel",
          "model_module_version": "1.5.0",
          "state": {
            "_model_module": "@jupyter-widgets/controls",
            "_model_module_version": "1.5.0",
            "_model_name": "DescriptionStyleModel",
            "_view_count": null,
            "_view_module": "@jupyter-widgets/base",
            "_view_module_version": "1.2.0",
            "_view_name": "StyleView",
            "description_width": ""
          }
        },
        "ee181edd58db486fac0c686c0240142c": {
          "model_module": "@jupyter-widgets/controls",
          "model_name": "HBoxModel",
          "model_module_version": "1.5.0",
          "state": {
            "_dom_classes": [],
            "_model_module": "@jupyter-widgets/controls",
            "_model_module_version": "1.5.0",
            "_model_name": "HBoxModel",
            "_view_count": null,
            "_view_module": "@jupyter-widgets/controls",
            "_view_module_version": "1.5.0",
            "_view_name": "HBoxView",
            "box_style": "",
            "children": [
              "IPY_MODEL_eb81975201c04df199e667c92872d231",
              "IPY_MODEL_feb4ae468bc4484bbc53bcfa2c5e2ce6",
              "IPY_MODEL_c11bc791c450433786ff966c0e352e89"
            ],
            "layout": "IPY_MODEL_09b8ab79fec74b1dad719bec23b43c65"
          }
        },
        "eb81975201c04df199e667c92872d231": {
          "model_module": "@jupyter-widgets/controls",
          "model_name": "HTMLModel",
          "model_module_version": "1.5.0",
          "state": {
            "_dom_classes": [],
            "_model_module": "@jupyter-widgets/controls",
            "_model_module_version": "1.5.0",
            "_model_name": "HTMLModel",
            "_view_count": null,
            "_view_module": "@jupyter-widgets/controls",
            "_view_module_version": "1.5.0",
            "_view_name": "HTMLView",
            "description": "",
            "description_tooltip": null,
            "layout": "IPY_MODEL_7ff7bed7ba84437f9dca8666da7ec40a",
            "placeholder": "​",
            "style": "IPY_MODEL_bf445c01ef6e4c7b818e0aa93afb9dd7",
            "value": "spiece.model: 100%"
          }
        },
        "feb4ae468bc4484bbc53bcfa2c5e2ce6": {
          "model_module": "@jupyter-widgets/controls",
          "model_name": "FloatProgressModel",
          "model_module_version": "1.5.0",
          "state": {
            "_dom_classes": [],
            "_model_module": "@jupyter-widgets/controls",
            "_model_module_version": "1.5.0",
            "_model_name": "FloatProgressModel",
            "_view_count": null,
            "_view_module": "@jupyter-widgets/controls",
            "_view_module_version": "1.5.0",
            "_view_name": "ProgressView",
            "bar_style": "success",
            "description": "",
            "description_tooltip": null,
            "layout": "IPY_MODEL_f29e4eb1f8464678bdb34418f75fb53b",
            "max": 791656,
            "min": 0,
            "orientation": "horizontal",
            "style": "IPY_MODEL_a3467c29ee74471a87c12fe7d2c82953",
            "value": 791656
          }
        },
        "c11bc791c450433786ff966c0e352e89": {
          "model_module": "@jupyter-widgets/controls",
          "model_name": "HTMLModel",
          "model_module_version": "1.5.0",
          "state": {
            "_dom_classes": [],
            "_model_module": "@jupyter-widgets/controls",
            "_model_module_version": "1.5.0",
            "_model_name": "HTMLModel",
            "_view_count": null,
            "_view_module": "@jupyter-widgets/controls",
            "_view_module_version": "1.5.0",
            "_view_name": "HTMLView",
            "description": "",
            "description_tooltip": null,
            "layout": "IPY_MODEL_7bb7e25e066044b285a8112fd47b86cc",
            "placeholder": "​",
            "style": "IPY_MODEL_b7f1230a33d6484f94351af5e26a6063",
            "value": " 792k/792k [00:00&lt;00:00, 991kB/s]"
          }
        },
        "09b8ab79fec74b1dad719bec23b43c65": {
          "model_module": "@jupyter-widgets/base",
          "model_name": "LayoutModel",
          "model_module_version": "1.2.0",
          "state": {
            "_model_module": "@jupyter-widgets/base",
            "_model_module_version": "1.2.0",
            "_model_name": "LayoutModel",
            "_view_count": null,
            "_view_module": "@jupyter-widgets/base",
            "_view_module_version": "1.2.0",
            "_view_name": "LayoutView",
            "align_content": null,
            "align_items": null,
            "align_self": null,
            "border": null,
            "bottom": null,
            "display": null,
            "flex": null,
            "flex_flow": null,
            "grid_area": null,
            "grid_auto_columns": null,
            "grid_auto_flow": null,
            "grid_auto_rows": null,
            "grid_column": null,
            "grid_gap": null,
            "grid_row": null,
            "grid_template_areas": null,
            "grid_template_columns": null,
            "grid_template_rows": null,
            "height": null,
            "justify_content": null,
            "justify_items": null,
            "left": null,
            "margin": null,
            "max_height": null,
            "max_width": null,
            "min_height": null,
            "min_width": null,
            "object_fit": null,
            "object_position": null,
            "order": null,
            "overflow": null,
            "overflow_x": null,
            "overflow_y": null,
            "padding": null,
            "right": null,
            "top": null,
            "visibility": null,
            "width": null
          }
        },
        "7ff7bed7ba84437f9dca8666da7ec40a": {
          "model_module": "@jupyter-widgets/base",
          "model_name": "LayoutModel",
          "model_module_version": "1.2.0",
          "state": {
            "_model_module": "@jupyter-widgets/base",
            "_model_module_version": "1.2.0",
            "_model_name": "LayoutModel",
            "_view_count": null,
            "_view_module": "@jupyter-widgets/base",
            "_view_module_version": "1.2.0",
            "_view_name": "LayoutView",
            "align_content": null,
            "align_items": null,
            "align_self": null,
            "border": null,
            "bottom": null,
            "display": null,
            "flex": null,
            "flex_flow": null,
            "grid_area": null,
            "grid_auto_columns": null,
            "grid_auto_flow": null,
            "grid_auto_rows": null,
            "grid_column": null,
            "grid_gap": null,
            "grid_row": null,
            "grid_template_areas": null,
            "grid_template_columns": null,
            "grid_template_rows": null,
            "height": null,
            "justify_content": null,
            "justify_items": null,
            "left": null,
            "margin": null,
            "max_height": null,
            "max_width": null,
            "min_height": null,
            "min_width": null,
            "object_fit": null,
            "object_position": null,
            "order": null,
            "overflow": null,
            "overflow_x": null,
            "overflow_y": null,
            "padding": null,
            "right": null,
            "top": null,
            "visibility": null,
            "width": null
          }
        },
        "bf445c01ef6e4c7b818e0aa93afb9dd7": {
          "model_module": "@jupyter-widgets/controls",
          "model_name": "DescriptionStyleModel",
          "model_module_version": "1.5.0",
          "state": {
            "_model_module": "@jupyter-widgets/controls",
            "_model_module_version": "1.5.0",
            "_model_name": "DescriptionStyleModel",
            "_view_count": null,
            "_view_module": "@jupyter-widgets/base",
            "_view_module_version": "1.2.0",
            "_view_name": "StyleView",
            "description_width": ""
          }
        },
        "f29e4eb1f8464678bdb34418f75fb53b": {
          "model_module": "@jupyter-widgets/base",
          "model_name": "LayoutModel",
          "model_module_version": "1.2.0",
          "state": {
            "_model_module": "@jupyter-widgets/base",
            "_model_module_version": "1.2.0",
            "_model_name": "LayoutModel",
            "_view_count": null,
            "_view_module": "@jupyter-widgets/base",
            "_view_module_version": "1.2.0",
            "_view_name": "LayoutView",
            "align_content": null,
            "align_items": null,
            "align_self": null,
            "border": null,
            "bottom": null,
            "display": null,
            "flex": null,
            "flex_flow": null,
            "grid_area": null,
            "grid_auto_columns": null,
            "grid_auto_flow": null,
            "grid_auto_rows": null,
            "grid_column": null,
            "grid_gap": null,
            "grid_row": null,
            "grid_template_areas": null,
            "grid_template_columns": null,
            "grid_template_rows": null,
            "height": null,
            "justify_content": null,
            "justify_items": null,
            "left": null,
            "margin": null,
            "max_height": null,
            "max_width": null,
            "min_height": null,
            "min_width": null,
            "object_fit": null,
            "object_position": null,
            "order": null,
            "overflow": null,
            "overflow_x": null,
            "overflow_y": null,
            "padding": null,
            "right": null,
            "top": null,
            "visibility": null,
            "width": null
          }
        },
        "a3467c29ee74471a87c12fe7d2c82953": {
          "model_module": "@jupyter-widgets/controls",
          "model_name": "ProgressStyleModel",
          "model_module_version": "1.5.0",
          "state": {
            "_model_module": "@jupyter-widgets/controls",
            "_model_module_version": "1.5.0",
            "_model_name": "ProgressStyleModel",
            "_view_count": null,
            "_view_module": "@jupyter-widgets/base",
            "_view_module_version": "1.2.0",
            "_view_name": "StyleView",
            "bar_color": null,
            "description_width": ""
          }
        },
        "7bb7e25e066044b285a8112fd47b86cc": {
          "model_module": "@jupyter-widgets/base",
          "model_name": "LayoutModel",
          "model_module_version": "1.2.0",
          "state": {
            "_model_module": "@jupyter-widgets/base",
            "_model_module_version": "1.2.0",
            "_model_name": "LayoutModel",
            "_view_count": null,
            "_view_module": "@jupyter-widgets/base",
            "_view_module_version": "1.2.0",
            "_view_name": "LayoutView",
            "align_content": null,
            "align_items": null,
            "align_self": null,
            "border": null,
            "bottom": null,
            "display": null,
            "flex": null,
            "flex_flow": null,
            "grid_area": null,
            "grid_auto_columns": null,
            "grid_auto_flow": null,
            "grid_auto_rows": null,
            "grid_column": null,
            "grid_gap": null,
            "grid_row": null,
            "grid_template_areas": null,
            "grid_template_columns": null,
            "grid_template_rows": null,
            "height": null,
            "justify_content": null,
            "justify_items": null,
            "left": null,
            "margin": null,
            "max_height": null,
            "max_width": null,
            "min_height": null,
            "min_width": null,
            "object_fit": null,
            "object_position": null,
            "order": null,
            "overflow": null,
            "overflow_x": null,
            "overflow_y": null,
            "padding": null,
            "right": null,
            "top": null,
            "visibility": null,
            "width": null
          }
        },
        "b7f1230a33d6484f94351af5e26a6063": {
          "model_module": "@jupyter-widgets/controls",
          "model_name": "DescriptionStyleModel",
          "model_module_version": "1.5.0",
          "state": {
            "_model_module": "@jupyter-widgets/controls",
            "_model_module_version": "1.5.0",
            "_model_name": "DescriptionStyleModel",
            "_view_count": null,
            "_view_module": "@jupyter-widgets/base",
            "_view_module_version": "1.2.0",
            "_view_name": "StyleView",
            "description_width": ""
          }
        },
        "ae232a8f3f4f457f9013e30ad7bf1355": {
          "model_module": "@jupyter-widgets/controls",
          "model_name": "HBoxModel",
          "model_module_version": "1.5.0",
          "state": {
            "_dom_classes": [],
            "_model_module": "@jupyter-widgets/controls",
            "_model_module_version": "1.5.0",
            "_model_name": "HBoxModel",
            "_view_count": null,
            "_view_module": "@jupyter-widgets/controls",
            "_view_module_version": "1.5.0",
            "_view_name": "HBoxView",
            "box_style": "",
            "children": [
              "IPY_MODEL_7098f266ea614fb191a740516afcb554",
              "IPY_MODEL_b631474c487e4b0abd884a3bc80c244c",
              "IPY_MODEL_5d96eae2cd9f411ab981bc140132f882"
            ],
            "layout": "IPY_MODEL_007c4e4eec2140a39f076ea249755c8a"
          }
        },
        "7098f266ea614fb191a740516afcb554": {
          "model_module": "@jupyter-widgets/controls",
          "model_name": "HTMLModel",
          "model_module_version": "1.5.0",
          "state": {
            "_dom_classes": [],
            "_model_module": "@jupyter-widgets/controls",
            "_model_module_version": "1.5.0",
            "_model_name": "HTMLModel",
            "_view_count": null,
            "_view_module": "@jupyter-widgets/controls",
            "_view_module_version": "1.5.0",
            "_view_name": "HTMLView",
            "description": "",
            "description_tooltip": null,
            "layout": "IPY_MODEL_efa9140d3ad34f40a12d7d817487e2fd",
            "placeholder": "​",
            "style": "IPY_MODEL_7e893a252d21401da2b74ae3443ac126",
            "value": "tokenizer.json: 100%"
          }
        },
        "b631474c487e4b0abd884a3bc80c244c": {
          "model_module": "@jupyter-widgets/controls",
          "model_name": "FloatProgressModel",
          "model_module_version": "1.5.0",
          "state": {
            "_dom_classes": [],
            "_model_module": "@jupyter-widgets/controls",
            "_model_module_version": "1.5.0",
            "_model_name": "FloatProgressModel",
            "_view_count": null,
            "_view_module": "@jupyter-widgets/controls",
            "_view_module_version": "1.5.0",
            "_view_name": "ProgressView",
            "bar_style": "success",
            "description": "",
            "description_tooltip": null,
            "layout": "IPY_MODEL_a885602ff5774c458821b13790732e1d",
            "max": 1389353,
            "min": 0,
            "orientation": "horizontal",
            "style": "IPY_MODEL_f8147facf06d45c4842349788af8f7c7",
            "value": 1389353
          }
        },
        "5d96eae2cd9f411ab981bc140132f882": {
          "model_module": "@jupyter-widgets/controls",
          "model_name": "HTMLModel",
          "model_module_version": "1.5.0",
          "state": {
            "_dom_classes": [],
            "_model_module": "@jupyter-widgets/controls",
            "_model_module_version": "1.5.0",
            "_model_name": "HTMLModel",
            "_view_count": null,
            "_view_module": "@jupyter-widgets/controls",
            "_view_module_version": "1.5.0",
            "_view_name": "HTMLView",
            "description": "",
            "description_tooltip": null,
            "layout": "IPY_MODEL_105f4f3e3aa147ccad6cc27149963758",
            "placeholder": "​",
            "style": "IPY_MODEL_585c4929d134471f803aea3239f9784f",
            "value": " 1.39M/1.39M [00:00&lt;00:00, 6.50MB/s]"
          }
        },
        "007c4e4eec2140a39f076ea249755c8a": {
          "model_module": "@jupyter-widgets/base",
          "model_name": "LayoutModel",
          "model_module_version": "1.2.0",
          "state": {
            "_model_module": "@jupyter-widgets/base",
            "_model_module_version": "1.2.0",
            "_model_name": "LayoutModel",
            "_view_count": null,
            "_view_module": "@jupyter-widgets/base",
            "_view_module_version": "1.2.0",
            "_view_name": "LayoutView",
            "align_content": null,
            "align_items": null,
            "align_self": null,
            "border": null,
            "bottom": null,
            "display": null,
            "flex": null,
            "flex_flow": null,
            "grid_area": null,
            "grid_auto_columns": null,
            "grid_auto_flow": null,
            "grid_auto_rows": null,
            "grid_column": null,
            "grid_gap": null,
            "grid_row": null,
            "grid_template_areas": null,
            "grid_template_columns": null,
            "grid_template_rows": null,
            "height": null,
            "justify_content": null,
            "justify_items": null,
            "left": null,
            "margin": null,
            "max_height": null,
            "max_width": null,
            "min_height": null,
            "min_width": null,
            "object_fit": null,
            "object_position": null,
            "order": null,
            "overflow": null,
            "overflow_x": null,
            "overflow_y": null,
            "padding": null,
            "right": null,
            "top": null,
            "visibility": null,
            "width": null
          }
        },
        "efa9140d3ad34f40a12d7d817487e2fd": {
          "model_module": "@jupyter-widgets/base",
          "model_name": "LayoutModel",
          "model_module_version": "1.2.0",
          "state": {
            "_model_module": "@jupyter-widgets/base",
            "_model_module_version": "1.2.0",
            "_model_name": "LayoutModel",
            "_view_count": null,
            "_view_module": "@jupyter-widgets/base",
            "_view_module_version": "1.2.0",
            "_view_name": "LayoutView",
            "align_content": null,
            "align_items": null,
            "align_self": null,
            "border": null,
            "bottom": null,
            "display": null,
            "flex": null,
            "flex_flow": null,
            "grid_area": null,
            "grid_auto_columns": null,
            "grid_auto_flow": null,
            "grid_auto_rows": null,
            "grid_column": null,
            "grid_gap": null,
            "grid_row": null,
            "grid_template_areas": null,
            "grid_template_columns": null,
            "grid_template_rows": null,
            "height": null,
            "justify_content": null,
            "justify_items": null,
            "left": null,
            "margin": null,
            "max_height": null,
            "max_width": null,
            "min_height": null,
            "min_width": null,
            "object_fit": null,
            "object_position": null,
            "order": null,
            "overflow": null,
            "overflow_x": null,
            "overflow_y": null,
            "padding": null,
            "right": null,
            "top": null,
            "visibility": null,
            "width": null
          }
        },
        "7e893a252d21401da2b74ae3443ac126": {
          "model_module": "@jupyter-widgets/controls",
          "model_name": "DescriptionStyleModel",
          "model_module_version": "1.5.0",
          "state": {
            "_model_module": "@jupyter-widgets/controls",
            "_model_module_version": "1.5.0",
            "_model_name": "DescriptionStyleModel",
            "_view_count": null,
            "_view_module": "@jupyter-widgets/base",
            "_view_module_version": "1.2.0",
            "_view_name": "StyleView",
            "description_width": ""
          }
        },
        "a885602ff5774c458821b13790732e1d": {
          "model_module": "@jupyter-widgets/base",
          "model_name": "LayoutModel",
          "model_module_version": "1.2.0",
          "state": {
            "_model_module": "@jupyter-widgets/base",
            "_model_module_version": "1.2.0",
            "_model_name": "LayoutModel",
            "_view_count": null,
            "_view_module": "@jupyter-widgets/base",
            "_view_module_version": "1.2.0",
            "_view_name": "LayoutView",
            "align_content": null,
            "align_items": null,
            "align_self": null,
            "border": null,
            "bottom": null,
            "display": null,
            "flex": null,
            "flex_flow": null,
            "grid_area": null,
            "grid_auto_columns": null,
            "grid_auto_flow": null,
            "grid_auto_rows": null,
            "grid_column": null,
            "grid_gap": null,
            "grid_row": null,
            "grid_template_areas": null,
            "grid_template_columns": null,
            "grid_template_rows": null,
            "height": null,
            "justify_content": null,
            "justify_items": null,
            "left": null,
            "margin": null,
            "max_height": null,
            "max_width": null,
            "min_height": null,
            "min_width": null,
            "object_fit": null,
            "object_position": null,
            "order": null,
            "overflow": null,
            "overflow_x": null,
            "overflow_y": null,
            "padding": null,
            "right": null,
            "top": null,
            "visibility": null,
            "width": null
          }
        },
        "f8147facf06d45c4842349788af8f7c7": {
          "model_module": "@jupyter-widgets/controls",
          "model_name": "ProgressStyleModel",
          "model_module_version": "1.5.0",
          "state": {
            "_model_module": "@jupyter-widgets/controls",
            "_model_module_version": "1.5.0",
            "_model_name": "ProgressStyleModel",
            "_view_count": null,
            "_view_module": "@jupyter-widgets/base",
            "_view_module_version": "1.2.0",
            "_view_name": "StyleView",
            "bar_color": null,
            "description_width": ""
          }
        },
        "105f4f3e3aa147ccad6cc27149963758": {
          "model_module": "@jupyter-widgets/base",
          "model_name": "LayoutModel",
          "model_module_version": "1.2.0",
          "state": {
            "_model_module": "@jupyter-widgets/base",
            "_model_module_version": "1.2.0",
            "_model_name": "LayoutModel",
            "_view_count": null,
            "_view_module": "@jupyter-widgets/base",
            "_view_module_version": "1.2.0",
            "_view_name": "LayoutView",
            "align_content": null,
            "align_items": null,
            "align_self": null,
            "border": null,
            "bottom": null,
            "display": null,
            "flex": null,
            "flex_flow": null,
            "grid_area": null,
            "grid_auto_columns": null,
            "grid_auto_flow": null,
            "grid_auto_rows": null,
            "grid_column": null,
            "grid_gap": null,
            "grid_row": null,
            "grid_template_areas": null,
            "grid_template_columns": null,
            "grid_template_rows": null,
            "height": null,
            "justify_content": null,
            "justify_items": null,
            "left": null,
            "margin": null,
            "max_height": null,
            "max_width": null,
            "min_height": null,
            "min_width": null,
            "object_fit": null,
            "object_position": null,
            "order": null,
            "overflow": null,
            "overflow_x": null,
            "overflow_y": null,
            "padding": null,
            "right": null,
            "top": null,
            "visibility": null,
            "width": null
          }
        },
        "585c4929d134471f803aea3239f9784f": {
          "model_module": "@jupyter-widgets/controls",
          "model_name": "DescriptionStyleModel",
          "model_module_version": "1.5.0",
          "state": {
            "_model_module": "@jupyter-widgets/controls",
            "_model_module_version": "1.5.0",
            "_model_name": "DescriptionStyleModel",
            "_view_count": null,
            "_view_module": "@jupyter-widgets/base",
            "_view_module_version": "1.2.0",
            "_view_name": "StyleView",
            "description_width": ""
          }
        },
        "41fa909ecafc470a9bdf21195a577fb9": {
          "model_module": "@jupyter-widgets/controls",
          "model_name": "TextareaModel",
          "model_module_version": "1.5.0",
          "state": {
            "_dom_classes": [],
            "_model_module": "@jupyter-widgets/controls",
            "_model_module_version": "1.5.0",
            "_model_name": "TextareaModel",
            "_view_count": null,
            "_view_module": "@jupyter-widgets/controls",
            "_view_module_version": "1.5.0",
            "_view_name": "TextareaView",
            "continuous_update": true,
            "description": "Input Text:",
            "description_tooltip": null,
            "disabled": false,
            "layout": "IPY_MODEL_9b33f6c2ebab4a02ac369eda1b37e304",
            "placeholder": "Enter your text here",
            "rows": null,
            "style": "IPY_MODEL_a8baf966eb4540e2bffe400c5b2ebbb8",
            "value": "In a world often dominated by negativity, it's important to remember the power of kindness and compassion. Small acts of kindness have the ability to brighten someone's day, uplift spirits, and create a ripple effect of positivity that can spread far and wide. Whether it's a smile to a stranger, a helping hand to a friend in need, or a thoughtful gesture to a colleague, every act of kindness has the potential to make a difference in someone's life.Beyond individual actions, there is also immense power in collective efforts to create positive change. When communities come together to support one another, incredible things can happen. From grassroots initiatives to global movements, people are uniting to tackle pressing social and environmental issues, driving meaningful progress and inspiring hope for a better future.It's also important to recognize the strength that lies within each and every one of us. We all have the ability to make a positive impact, no matter how small our actions may seem. By tapping into our innate compassion and empathy, we can cultivate a culture of kindness and empathy that enriches our lives and those around us.So let's embrace the power of kindness, and strive to make the world a better place one small act at a time. Together, we can create a brighter, more compassionate future for all."
          }
        },
        "9b33f6c2ebab4a02ac369eda1b37e304": {
          "model_module": "@jupyter-widgets/base",
          "model_name": "LayoutModel",
          "model_module_version": "1.2.0",
          "state": {
            "_model_module": "@jupyter-widgets/base",
            "_model_module_version": "1.2.0",
            "_model_name": "LayoutModel",
            "_view_count": null,
            "_view_module": "@jupyter-widgets/base",
            "_view_module_version": "1.2.0",
            "_view_name": "LayoutView",
            "align_content": null,
            "align_items": null,
            "align_self": null,
            "border": null,
            "bottom": null,
            "display": null,
            "flex": null,
            "flex_flow": null,
            "grid_area": null,
            "grid_auto_columns": null,
            "grid_auto_flow": null,
            "grid_auto_rows": null,
            "grid_column": null,
            "grid_gap": null,
            "grid_row": null,
            "grid_template_areas": null,
            "grid_template_columns": null,
            "grid_template_rows": null,
            "height": "100px",
            "justify_content": null,
            "justify_items": null,
            "left": null,
            "margin": null,
            "max_height": null,
            "max_width": null,
            "min_height": null,
            "min_width": null,
            "object_fit": null,
            "object_position": null,
            "order": null,
            "overflow": null,
            "overflow_x": null,
            "overflow_y": null,
            "padding": null,
            "right": null,
            "top": null,
            "visibility": null,
            "width": "90%"
          }
        },
        "a8baf966eb4540e2bffe400c5b2ebbb8": {
          "model_module": "@jupyter-widgets/controls",
          "model_name": "DescriptionStyleModel",
          "model_module_version": "1.5.0",
          "state": {
            "_model_module": "@jupyter-widgets/controls",
            "_model_module_version": "1.5.0",
            "_model_name": "DescriptionStyleModel",
            "_view_count": null,
            "_view_module": "@jupyter-widgets/base",
            "_view_module_version": "1.2.0",
            "_view_name": "StyleView",
            "description_width": ""
          }
        },
        "5ee38c8c9eba48ccac6265e5735944d6": {
          "model_module": "@jupyter-widgets/controls",
          "model_name": "ButtonModel",
          "model_module_version": "1.5.0",
          "state": {
            "_dom_classes": [],
            "_model_module": "@jupyter-widgets/controls",
            "_model_module_version": "1.5.0",
            "_model_name": "ButtonModel",
            "_view_count": null,
            "_view_module": "@jupyter-widgets/controls",
            "_view_module_version": "1.5.0",
            "_view_name": "ButtonView",
            "button_style": "info",
            "description": "Summarize",
            "disabled": false,
            "icon": "",
            "layout": "IPY_MODEL_f2c8999d412245b7b5e1a25a2e662d00",
            "style": "IPY_MODEL_a14815e52d374814a9cbcf8004d00a0d",
            "tooltip": "Click to summarize"
          }
        },
        "f2c8999d412245b7b5e1a25a2e662d00": {
          "model_module": "@jupyter-widgets/base",
          "model_name": "LayoutModel",
          "model_module_version": "1.2.0",
          "state": {
            "_model_module": "@jupyter-widgets/base",
            "_model_module_version": "1.2.0",
            "_model_name": "LayoutModel",
            "_view_count": null,
            "_view_module": "@jupyter-widgets/base",
            "_view_module_version": "1.2.0",
            "_view_name": "LayoutView",
            "align_content": null,
            "align_items": null,
            "align_self": null,
            "border": null,
            "bottom": null,
            "display": null,
            "flex": null,
            "flex_flow": null,
            "grid_area": null,
            "grid_auto_columns": null,
            "grid_auto_flow": null,
            "grid_auto_rows": null,
            "grid_column": null,
            "grid_gap": null,
            "grid_row": null,
            "grid_template_areas": null,
            "grid_template_columns": null,
            "grid_template_rows": null,
            "height": null,
            "justify_content": null,
            "justify_items": null,
            "left": null,
            "margin": null,
            "max_height": null,
            "max_width": null,
            "min_height": null,
            "min_width": null,
            "object_fit": null,
            "object_position": null,
            "order": null,
            "overflow": null,
            "overflow_x": null,
            "overflow_y": null,
            "padding": null,
            "right": null,
            "top": null,
            "visibility": null,
            "width": null
          }
        },
        "a14815e52d374814a9cbcf8004d00a0d": {
          "model_module": "@jupyter-widgets/controls",
          "model_name": "ButtonStyleModel",
          "model_module_version": "1.5.0",
          "state": {
            "_model_module": "@jupyter-widgets/controls",
            "_model_module_version": "1.5.0",
            "_model_name": "ButtonStyleModel",
            "_view_count": null,
            "_view_module": "@jupyter-widgets/base",
            "_view_module_version": "1.2.0",
            "_view_name": "StyleView",
            "button_color": null,
            "font_weight": ""
          }
        },
        "9b09aebb5d1e4c18b3213a31c1fe47f0": {
          "model_module": "@jupyter-widgets/output",
          "model_name": "OutputModel",
          "model_module_version": "1.0.0",
          "state": {
            "_dom_classes": [],
            "_model_module": "@jupyter-widgets/output",
            "_model_module_version": "1.0.0",
            "_model_name": "OutputModel",
            "_view_count": null,
            "_view_module": "@jupyter-widgets/output",
            "_view_module_version": "1.0.0",
            "_view_name": "OutputView",
            "layout": "IPY_MODEL_d3116bfef5c04f888b3fa145f37f0d7a",
            "msg_id": "",
            "outputs": [
              {
                "output_type": "stream",
                "name": "stdout",
                "text": [
                  "small acts of kindness can brighten someone's day, uplift spirits, and create a ripple effect of positivity . when communities come together to support one another, incredible things can happen . we all have the ability to make a positive impact, no matter how small our actions may seem .\n"
                ]
              }
            ]
          }
        },
        "d3116bfef5c04f888b3fa145f37f0d7a": {
          "model_module": "@jupyter-widgets/base",
          "model_name": "LayoutModel",
          "model_module_version": "1.2.0",
          "state": {
            "_model_module": "@jupyter-widgets/base",
            "_model_module_version": "1.2.0",
            "_model_name": "LayoutModel",
            "_view_count": null,
            "_view_module": "@jupyter-widgets/base",
            "_view_module_version": "1.2.0",
            "_view_name": "LayoutView",
            "align_content": null,
            "align_items": null,
            "align_self": null,
            "border": "1px solid black",
            "bottom": null,
            "display": null,
            "flex": null,
            "flex_flow": null,
            "grid_area": null,
            "grid_auto_columns": null,
            "grid_auto_flow": null,
            "grid_auto_rows": null,
            "grid_column": null,
            "grid_gap": null,
            "grid_row": null,
            "grid_template_areas": null,
            "grid_template_columns": null,
            "grid_template_rows": null,
            "height": "200px",
            "justify_content": null,
            "justify_items": null,
            "left": null,
            "margin": null,
            "max_height": null,
            "max_width": null,
            "min_height": null,
            "min_width": null,
            "object_fit": null,
            "object_position": null,
            "order": null,
            "overflow": null,
            "overflow_x": null,
            "overflow_y": null,
            "padding": null,
            "right": null,
            "top": null,
            "visibility": null,
            "width": "90%"
          }
        },
        "a8282fadd82242739c72db121f9a04aa": {
          "model_module": "@jupyter-widgets/controls",
          "model_name": "VBoxModel",
          "model_module_version": "1.5.0",
          "state": {
            "_dom_classes": [],
            "_model_module": "@jupyter-widgets/controls",
            "_model_module_version": "1.5.0",
            "_model_name": "VBoxModel",
            "_view_count": null,
            "_view_module": "@jupyter-widgets/controls",
            "_view_module_version": "1.5.0",
            "_view_name": "VBoxView",
            "box_style": "",
            "children": [
              "IPY_MODEL_c0582c09d974456ba25833282f2a6948",
              "IPY_MODEL_859fb7284a264695885411343fcea591",
              "IPY_MODEL_d31a1c2ef40b4da9a08784b90a3a1a6f"
            ],
            "layout": "IPY_MODEL_e12eca528cba40d280ff10783c3fca54"
          }
        },
        "c0582c09d974456ba25833282f2a6948": {
          "model_module": "@jupyter-widgets/controls",
          "model_name": "TextareaModel",
          "model_module_version": "1.5.0",
          "state": {
            "_dom_classes": [],
            "_model_module": "@jupyter-widgets/controls",
            "_model_module_version": "1.5.0",
            "_model_name": "TextareaModel",
            "_view_count": null,
            "_view_module": "@jupyter-widgets/controls",
            "_view_module_version": "1.5.0",
            "_view_name": "TextareaView",
            "continuous_update": true,
            "description": "Input Text:",
            "description_tooltip": null,
            "disabled": false,
            "layout": "IPY_MODEL_beca25e7bdfe498a8cb70f303ad0d993",
            "placeholder": "Enter your text here",
            "rows": null,
            "style": "IPY_MODEL_8a91a4a2c748460ba93ec02a00d3dad6",
            "value": "In a world often dominated by negativity, it's important to remember the power of kindness and compassion. Small acts of kindness have the ability to brighten someone's day, uplift spirits, and create a ripple effect of positivity that can spread far and wide. Whether it's a smile to a stranger, a helping hand to a friend in need, or a thoughtful gesture to a colleague, every act of kindness has the potential to make a difference in someone's life.Beyond individual actions, there is also immense power in collective efforts to create positive change. When communities come together to support one another, incredible things can happen. From grassroots initiatives to global movements, people are uniting to tackle pressing social and environmental issues, driving meaningful progress and inspiring hope for a better future.It's also important to recognize the strength that lies within each and every one of us. We all have the ability to make a positive impact, no matter how small our actions may seem. By tapping into our innate compassion and empathy, we can cultivate a culture of kindness and empathy that enriches our lives and those around us.So let's embrace the power of kindness, and strive to make the world a better place one small act at a time. Together, we can create a brighter, more compassionate future for all."
          }
        },
        "859fb7284a264695885411343fcea591": {
          "model_module": "@jupyter-widgets/controls",
          "model_name": "IntSliderModel",
          "model_module_version": "1.5.0",
          "state": {
            "_dom_classes": [],
            "_model_module": "@jupyter-widgets/controls",
            "_model_module_version": "1.5.0",
            "_model_name": "IntSliderModel",
            "_view_count": null,
            "_view_module": "@jupyter-widgets/controls",
            "_view_module_version": "1.5.0",
            "_view_name": "IntSliderView",
            "continuous_update": false,
            "description": "Num Sentences:",
            "description_tooltip": null,
            "disabled": false,
            "layout": "IPY_MODEL_d87e097e51c14df7a7c25824bc2a63e1",
            "max": 10,
            "min": 1,
            "orientation": "horizontal",
            "readout": true,
            "readout_format": "d",
            "step": 1,
            "style": "IPY_MODEL_d4ca100ddea3423f9078073f5d1cee73",
            "value": 3
          }
        },
        "d31a1c2ef40b4da9a08784b90a3a1a6f": {
          "model_module": "@jupyter-widgets/controls",
          "model_name": "ButtonModel",
          "model_module_version": "1.5.0",
          "state": {
            "_dom_classes": [],
            "_model_module": "@jupyter-widgets/controls",
            "_model_module_version": "1.5.0",
            "_model_name": "ButtonModel",
            "_view_count": null,
            "_view_module": "@jupyter-widgets/controls",
            "_view_module_version": "1.5.0",
            "_view_name": "ButtonView",
            "button_style": "info",
            "description": "Summarize",
            "disabled": false,
            "icon": "",
            "layout": "IPY_MODEL_1af7de7be68c4337a0e031959b4b984d",
            "style": "IPY_MODEL_150b4df104774034803fde82b06e6d2f",
            "tooltip": "Click to summarize"
          }
        },
        "e12eca528cba40d280ff10783c3fca54": {
          "model_module": "@jupyter-widgets/base",
          "model_name": "LayoutModel",
          "model_module_version": "1.2.0",
          "state": {
            "_model_module": "@jupyter-widgets/base",
            "_model_module_version": "1.2.0",
            "_model_name": "LayoutModel",
            "_view_count": null,
            "_view_module": "@jupyter-widgets/base",
            "_view_module_version": "1.2.0",
            "_view_name": "LayoutView",
            "align_content": null,
            "align_items": null,
            "align_self": null,
            "border": null,
            "bottom": null,
            "display": null,
            "flex": null,
            "flex_flow": null,
            "grid_area": null,
            "grid_auto_columns": null,
            "grid_auto_flow": null,
            "grid_auto_rows": null,
            "grid_column": null,
            "grid_gap": null,
            "grid_row": null,
            "grid_template_areas": null,
            "grid_template_columns": null,
            "grid_template_rows": null,
            "height": null,
            "justify_content": null,
            "justify_items": null,
            "left": null,
            "margin": null,
            "max_height": null,
            "max_width": null,
            "min_height": null,
            "min_width": null,
            "object_fit": null,
            "object_position": null,
            "order": null,
            "overflow": null,
            "overflow_x": null,
            "overflow_y": null,
            "padding": null,
            "right": null,
            "top": null,
            "visibility": null,
            "width": null
          }
        },
        "beca25e7bdfe498a8cb70f303ad0d993": {
          "model_module": "@jupyter-widgets/base",
          "model_name": "LayoutModel",
          "model_module_version": "1.2.0",
          "state": {
            "_model_module": "@jupyter-widgets/base",
            "_model_module_version": "1.2.0",
            "_model_name": "LayoutModel",
            "_view_count": null,
            "_view_module": "@jupyter-widgets/base",
            "_view_module_version": "1.2.0",
            "_view_name": "LayoutView",
            "align_content": null,
            "align_items": null,
            "align_self": null,
            "border": null,
            "bottom": null,
            "display": null,
            "flex": null,
            "flex_flow": null,
            "grid_area": null,
            "grid_auto_columns": null,
            "grid_auto_flow": null,
            "grid_auto_rows": null,
            "grid_column": null,
            "grid_gap": null,
            "grid_row": null,
            "grid_template_areas": null,
            "grid_template_columns": null,
            "grid_template_rows": null,
            "height": "200px",
            "justify_content": null,
            "justify_items": null,
            "left": null,
            "margin": null,
            "max_height": null,
            "max_width": null,
            "min_height": null,
            "min_width": null,
            "object_fit": null,
            "object_position": null,
            "order": null,
            "overflow": null,
            "overflow_x": null,
            "overflow_y": null,
            "padding": null,
            "right": null,
            "top": null,
            "visibility": null,
            "width": "80%"
          }
        },
        "8a91a4a2c748460ba93ec02a00d3dad6": {
          "model_module": "@jupyter-widgets/controls",
          "model_name": "DescriptionStyleModel",
          "model_module_version": "1.5.0",
          "state": {
            "_model_module": "@jupyter-widgets/controls",
            "_model_module_version": "1.5.0",
            "_model_name": "DescriptionStyleModel",
            "_view_count": null,
            "_view_module": "@jupyter-widgets/base",
            "_view_module_version": "1.2.0",
            "_view_name": "StyleView",
            "description_width": ""
          }
        },
        "d87e097e51c14df7a7c25824bc2a63e1": {
          "model_module": "@jupyter-widgets/base",
          "model_name": "LayoutModel",
          "model_module_version": "1.2.0",
          "state": {
            "_model_module": "@jupyter-widgets/base",
            "_model_module_version": "1.2.0",
            "_model_name": "LayoutModel",
            "_view_count": null,
            "_view_module": "@jupyter-widgets/base",
            "_view_module_version": "1.2.0",
            "_view_name": "LayoutView",
            "align_content": null,
            "align_items": null,
            "align_self": null,
            "border": null,
            "bottom": null,
            "display": null,
            "flex": null,
            "flex_flow": null,
            "grid_area": null,
            "grid_auto_columns": null,
            "grid_auto_flow": null,
            "grid_auto_rows": null,
            "grid_column": null,
            "grid_gap": null,
            "grid_row": null,
            "grid_template_areas": null,
            "grid_template_columns": null,
            "grid_template_rows": null,
            "height": null,
            "justify_content": null,
            "justify_items": null,
            "left": null,
            "margin": null,
            "max_height": null,
            "max_width": null,
            "min_height": null,
            "min_width": null,
            "object_fit": null,
            "object_position": null,
            "order": null,
            "overflow": null,
            "overflow_x": null,
            "overflow_y": null,
            "padding": null,
            "right": null,
            "top": null,
            "visibility": null,
            "width": null
          }
        },
        "d4ca100ddea3423f9078073f5d1cee73": {
          "model_module": "@jupyter-widgets/controls",
          "model_name": "SliderStyleModel",
          "model_module_version": "1.5.0",
          "state": {
            "_model_module": "@jupyter-widgets/controls",
            "_model_module_version": "1.5.0",
            "_model_name": "SliderStyleModel",
            "_view_count": null,
            "_view_module": "@jupyter-widgets/base",
            "_view_module_version": "1.2.0",
            "_view_name": "StyleView",
            "description_width": "initial",
            "handle_color": null
          }
        },
        "1af7de7be68c4337a0e031959b4b984d": {
          "model_module": "@jupyter-widgets/base",
          "model_name": "LayoutModel",
          "model_module_version": "1.2.0",
          "state": {
            "_model_module": "@jupyter-widgets/base",
            "_model_module_version": "1.2.0",
            "_model_name": "LayoutModel",
            "_view_count": null,
            "_view_module": "@jupyter-widgets/base",
            "_view_module_version": "1.2.0",
            "_view_name": "LayoutView",
            "align_content": null,
            "align_items": null,
            "align_self": null,
            "border": null,
            "bottom": null,
            "display": null,
            "flex": null,
            "flex_flow": null,
            "grid_area": null,
            "grid_auto_columns": null,
            "grid_auto_flow": null,
            "grid_auto_rows": null,
            "grid_column": null,
            "grid_gap": null,
            "grid_row": null,
            "grid_template_areas": null,
            "grid_template_columns": null,
            "grid_template_rows": null,
            "height": null,
            "justify_content": null,
            "justify_items": null,
            "left": null,
            "margin": null,
            "max_height": null,
            "max_width": null,
            "min_height": null,
            "min_width": null,
            "object_fit": null,
            "object_position": null,
            "order": null,
            "overflow": null,
            "overflow_x": null,
            "overflow_y": null,
            "padding": null,
            "right": null,
            "top": null,
            "visibility": null,
            "width": null
          }
        },
        "150b4df104774034803fde82b06e6d2f": {
          "model_module": "@jupyter-widgets/controls",
          "model_name": "ButtonStyleModel",
          "model_module_version": "1.5.0",
          "state": {
            "_model_module": "@jupyter-widgets/controls",
            "_model_module_version": "1.5.0",
            "_model_name": "ButtonStyleModel",
            "_view_count": null,
            "_view_module": "@jupyter-widgets/base",
            "_view_module_version": "1.2.0",
            "_view_name": "StyleView",
            "button_color": null,
            "font_weight": ""
          }
        },
        "ba3aea24ec6b449da9dd710cd56b48de": {
          "model_module": "@jupyter-widgets/controls",
          "model_name": "VBoxModel",
          "model_module_version": "1.5.0",
          "state": {
            "_dom_classes": [],
            "_model_module": "@jupyter-widgets/controls",
            "_model_module_version": "1.5.0",
            "_model_name": "VBoxModel",
            "_view_count": null,
            "_view_module": "@jupyter-widgets/controls",
            "_view_module_version": "1.5.0",
            "_view_name": "VBoxView",
            "box_style": "",
            "children": [
              "IPY_MODEL_9603c4ed7a1c48418fae9fdcc4d60b3a"
            ],
            "layout": "IPY_MODEL_6851f9382943485e958d7165899c1c03"
          }
        },
        "9603c4ed7a1c48418fae9fdcc4d60b3a": {
          "model_module": "@jupyter-widgets/controls",
          "model_name": "TextareaModel",
          "model_module_version": "1.5.0",
          "state": {
            "_dom_classes": [],
            "_model_module": "@jupyter-widgets/controls",
            "_model_module_version": "1.5.0",
            "_model_name": "TextareaModel",
            "_view_count": null,
            "_view_module": "@jupyter-widgets/controls",
            "_view_module_version": "1.5.0",
            "_view_name": "TextareaView",
            "continuous_update": true,
            "description": "Summary:",
            "description_tooltip": null,
            "disabled": true,
            "layout": "IPY_MODEL_9170f530367d4e1c97d3214c8dc4924c",
            "placeholder": "Summarized Text",
            "rows": null,
            "style": "IPY_MODEL_2271ee72731941b5bd7d57768dd0b318",
            "value": ""
          }
        },
        "6851f9382943485e958d7165899c1c03": {
          "model_module": "@jupyter-widgets/base",
          "model_name": "LayoutModel",
          "model_module_version": "1.2.0",
          "state": {
            "_model_module": "@jupyter-widgets/base",
            "_model_module_version": "1.2.0",
            "_model_name": "LayoutModel",
            "_view_count": null,
            "_view_module": "@jupyter-widgets/base",
            "_view_module_version": "1.2.0",
            "_view_name": "LayoutView",
            "align_content": null,
            "align_items": null,
            "align_self": null,
            "border": null,
            "bottom": null,
            "display": null,
            "flex": null,
            "flex_flow": null,
            "grid_area": null,
            "grid_auto_columns": null,
            "grid_auto_flow": null,
            "grid_auto_rows": null,
            "grid_column": null,
            "grid_gap": null,
            "grid_row": null,
            "grid_template_areas": null,
            "grid_template_columns": null,
            "grid_template_rows": null,
            "height": null,
            "justify_content": null,
            "justify_items": null,
            "left": null,
            "margin": null,
            "max_height": null,
            "max_width": null,
            "min_height": null,
            "min_width": null,
            "object_fit": null,
            "object_position": null,
            "order": null,
            "overflow": null,
            "overflow_x": null,
            "overflow_y": null,
            "padding": null,
            "right": null,
            "top": null,
            "visibility": null,
            "width": null
          }
        },
        "9170f530367d4e1c97d3214c8dc4924c": {
          "model_module": "@jupyter-widgets/base",
          "model_name": "LayoutModel",
          "model_module_version": "1.2.0",
          "state": {
            "_model_module": "@jupyter-widgets/base",
            "_model_module_version": "1.2.0",
            "_model_name": "LayoutModel",
            "_view_count": null,
            "_view_module": "@jupyter-widgets/base",
            "_view_module_version": "1.2.0",
            "_view_name": "LayoutView",
            "align_content": null,
            "align_items": null,
            "align_self": null,
            "border": null,
            "bottom": null,
            "display": null,
            "flex": null,
            "flex_flow": null,
            "grid_area": null,
            "grid_auto_columns": null,
            "grid_auto_flow": null,
            "grid_auto_rows": null,
            "grid_column": null,
            "grid_gap": null,
            "grid_row": null,
            "grid_template_areas": null,
            "grid_template_columns": null,
            "grid_template_rows": null,
            "height": "150px",
            "justify_content": null,
            "justify_items": null,
            "left": null,
            "margin": null,
            "max_height": null,
            "max_width": null,
            "min_height": null,
            "min_width": null,
            "object_fit": null,
            "object_position": null,
            "order": null,
            "overflow": null,
            "overflow_x": null,
            "overflow_y": null,
            "padding": null,
            "right": null,
            "top": null,
            "visibility": null,
            "width": "80%"
          }
        },
        "2271ee72731941b5bd7d57768dd0b318": {
          "model_module": "@jupyter-widgets/controls",
          "model_name": "DescriptionStyleModel",
          "model_module_version": "1.5.0",
          "state": {
            "_model_module": "@jupyter-widgets/controls",
            "_model_module_version": "1.5.0",
            "_model_name": "DescriptionStyleModel",
            "_view_count": null,
            "_view_module": "@jupyter-widgets/base",
            "_view_module_version": "1.2.0",
            "_view_name": "StyleView",
            "description_width": ""
          }
        }
      }
    }
  },
  "cells": [
    {
      "cell_type": "markdown",
      "source": [
        "#TEXT SUMMARIZATION"
      ],
      "metadata": {
        "id": "P8C_Su_kEme3"
      }
    },
    {
      "cell_type": "markdown",
      "source": [
        "### **Input Text**"
      ],
      "metadata": {
        "id": "XsYcOkZwCg45"
      }
    },
    {
      "cell_type": "code",
      "execution_count": null,
      "metadata": {
        "id": "YWew1iFL21Bz"
      },
      "outputs": [],
      "source": [
        "text = \"\"\"In a world often dominated by negativity, it's important to remember the power of kindness and compassion. Small acts of kindness have the ability to brighten someone's day, uplift spirits, and create a ripple effect of positivity that can spread far and wide. Whether it's a smile to a stranger, a helping hand to a friend in need, or a thoughtful gesture to a colleague, every act of kindness has the potential to make a difference in someone's life.Beyond individual actions, there is also immense power in collective efforts to create positive change. When communities come together to support one another, incredible things can happen. From grassroots initiatives to global movements, people are uniting to tackle pressing social and environmental issues, driving meaningful progress and inspiring hope for a better future.It's also important to recognize the strength that lies within each and every one of us. We all have the ability to make a positive impact, no matter how small our actions may seem. By tapping into our innate compassion and empathy, we can cultivate a culture of kindness and empathy that enriches our lives and those around us.So let's embrace the power of kindness, and strive to make the world a better place one small act at a time. Together, we can create a brighter, more compassionate future for all.\"\"\""
      ]
    },
    {
      "cell_type": "markdown",
      "source": [
        "### **Length of Input Text**"
      ],
      "metadata": {
        "id": "imArfnr3CiRm"
      }
    },
    {
      "cell_type": "code",
      "source": [
        "len(text)"
      ],
      "metadata": {
        "colab": {
          "base_uri": "https://localhost:8080/"
        },
        "id": "OOpjP7LJ23Ww",
        "outputId": "37a90eeb-e468-4e74-da5e-1b9885d206f8"
      },
      "execution_count": null,
      "outputs": [
        {
          "output_type": "execute_result",
          "data": {
            "text/plain": [
              "1335"
            ]
          },
          "metadata": {},
          "execution_count": 51
        }
      ]
    },
    {
      "cell_type": "markdown",
      "source": [
        "### **Importing Libraries for Text Processing**"
      ],
      "metadata": {
        "id": "G0WIROesCi6N"
      }
    },
    {
      "cell_type": "code",
      "source": [
        "import spacy\n",
        "from spacy.lang.en.stop_words import STOP_WORDS\n",
        "from string import punctuation"
      ],
      "metadata": {
        "id": "XeNq5Wyy40bq"
      },
      "execution_count": null,
      "outputs": []
    },
    {
      "cell_type": "markdown",
      "source": [
        "### **Loading SpaCy Language Model** : This cell loads the English language model provided by SpaCy (en_core_web_sm)"
      ],
      "metadata": {
        "id": "sg74iJFFFhRm"
      }
    },
    {
      "cell_type": "code",
      "source": [
        "nlp = spacy.load('en_core_web_sm')"
      ],
      "metadata": {
        "id": "4WcgQrqi492T"
      },
      "execution_count": null,
      "outputs": []
    },
    {
      "cell_type": "markdown",
      "source": [
        "### **Tokenizing Text**"
      ],
      "metadata": {
        "id": "ANtr0yneFhqP"
      }
    },
    {
      "cell_type": "code",
      "source": [
        "doc = nlp(text)"
      ],
      "metadata": {
        "id": "SpAJkpU_5CK0"
      },
      "execution_count": null,
      "outputs": []
    },
    {
      "cell_type": "code",
      "source": [
        "# Tokenize the text, converting each token to lowercase and filtering out stop words and punctuation\n",
        "tokens = [token.text.lower() for token in doc\n",
        "          if not token.is_stop  # Exclude stop words\n",
        "          and not token.is_punct  # Exclude punctuation\n",
        "          and token.text != '\\n']  # Exclude newline characters\n"
      ],
      "metadata": {
        "id": "pS30pbPI5EIu"
      },
      "execution_count": null,
      "outputs": []
    },
    {
      "cell_type": "code",
      "source": [
        "tokens"
      ],
      "metadata": {
        "id": "PKuQi5C15F_Y",
        "colab": {
          "base_uri": "https://localhost:8080/"
        },
        "outputId": "d291b833-f0e3-4ff5-ae9e-23f32fbe3f5d"
      },
      "execution_count": null,
      "outputs": [
        {
          "output_type": "execute_result",
          "data": {
            "text/plain": [
              "['world',\n",
              " 'dominated',\n",
              " 'negativity',\n",
              " 'important',\n",
              " 'remember',\n",
              " 'power',\n",
              " 'kindness',\n",
              " 'compassion',\n",
              " 'small',\n",
              " 'acts',\n",
              " 'kindness',\n",
              " 'ability',\n",
              " 'brighten',\n",
              " 'day',\n",
              " 'uplift',\n",
              " 'spirits',\n",
              " 'create',\n",
              " 'ripple',\n",
              " 'effect',\n",
              " 'positivity',\n",
              " 'spread',\n",
              " 'far',\n",
              " 'wide',\n",
              " 'smile',\n",
              " 'stranger',\n",
              " 'helping',\n",
              " 'hand',\n",
              " 'friend',\n",
              " 'need',\n",
              " 'thoughtful',\n",
              " 'gesture',\n",
              " 'colleague',\n",
              " 'act',\n",
              " 'kindness',\n",
              " 'potential',\n",
              " 'difference',\n",
              " 'life',\n",
              " 'individual',\n",
              " 'actions',\n",
              " 'immense',\n",
              " 'power',\n",
              " 'collective',\n",
              " 'efforts',\n",
              " 'create',\n",
              " 'positive',\n",
              " 'change',\n",
              " 'communities',\n",
              " 'come',\n",
              " 'support',\n",
              " 'incredible',\n",
              " 'things',\n",
              " 'happen',\n",
              " 'grassroots',\n",
              " 'initiatives',\n",
              " 'global',\n",
              " 'movements',\n",
              " 'people',\n",
              " 'uniting',\n",
              " 'tackle',\n",
              " 'pressing',\n",
              " 'social',\n",
              " 'environmental',\n",
              " 'issues',\n",
              " 'driving',\n",
              " 'meaningful',\n",
              " 'progress',\n",
              " 'inspiring',\n",
              " 'hope',\n",
              " 'better',\n",
              " 'future',\n",
              " 'important',\n",
              " 'recognize',\n",
              " 'strength',\n",
              " 'lies',\n",
              " 'ability',\n",
              " 'positive',\n",
              " 'impact',\n",
              " 'matter',\n",
              " 'small',\n",
              " 'actions',\n",
              " 'tapping',\n",
              " 'innate',\n",
              " 'compassion',\n",
              " 'empathy',\n",
              " 'cultivate',\n",
              " 'culture',\n",
              " 'kindness',\n",
              " 'empathy',\n",
              " 'enriches',\n",
              " 'lives',\n",
              " 'let',\n",
              " 'embrace',\n",
              " 'power',\n",
              " 'kindness',\n",
              " 'strive',\n",
              " 'world',\n",
              " 'better',\n",
              " 'place',\n",
              " 'small',\n",
              " 'act',\n",
              " 'time',\n",
              " 'create',\n",
              " 'brighter',\n",
              " 'compassionate',\n",
              " 'future']"
            ]
          },
          "metadata": {},
          "execution_count": 56
        }
      ]
    },
    {
      "cell_type": "markdown",
      "source": [
        "### **Filtering Tokens by Part-of-Speech and Stopwords** : This cell filters tokens based on their part-of-speech tags and removes stopwords and punctuation marks."
      ],
      "metadata": {
        "id": "B3-WYBuwF1XK"
      }
    },
    {
      "cell_type": "code",
      "source": [
        "tokens1=[]\n",
        "stopwords = list(STOP_WORDS)\n",
        "allowed_pos = ['ADJ','PROPN','VERB','NOUN']\n",
        "for token in doc:\n",
        "    # Check if the token is a stop word or punctuation mark\n",
        "    if token.text in stopwords or token.text in punctuation:\n",
        "        continue\n",
        "    # Check if the token's part-of-speech tag is in the allowed list\n",
        "    if token.pos_ in allowed_pos:\n",
        "        tokens1.append(token.text)\n"
      ],
      "metadata": {
        "id": "OABttfza5H6j"
      },
      "execution_count": null,
      "outputs": []
    },
    {
      "cell_type": "code",
      "source": [
        "tokens1"
      ],
      "metadata": {
        "id": "wx21AWv05Kot",
        "colab": {
          "base_uri": "https://localhost:8080/"
        },
        "outputId": "df337c35-c7a2-4471-c5bd-7ae19030976d"
      },
      "execution_count": null,
      "outputs": [
        {
          "output_type": "execute_result",
          "data": {
            "text/plain": [
              "['world',\n",
              " 'dominated',\n",
              " 'negativity',\n",
              " 'important',\n",
              " 'remember',\n",
              " 'power',\n",
              " 'kindness',\n",
              " 'compassion',\n",
              " 'Small',\n",
              " 'acts',\n",
              " 'kindness',\n",
              " 'ability',\n",
              " 'brighten',\n",
              " 'day',\n",
              " 'uplift',\n",
              " 'spirits',\n",
              " 'create',\n",
              " 'ripple',\n",
              " 'effect',\n",
              " 'positivity',\n",
              " 'spread',\n",
              " 'wide',\n",
              " 'smile',\n",
              " 'stranger',\n",
              " 'helping',\n",
              " 'hand',\n",
              " 'friend',\n",
              " 'need',\n",
              " 'thoughtful',\n",
              " 'gesture',\n",
              " 'colleague',\n",
              " 'act',\n",
              " 'kindness',\n",
              " 'potential',\n",
              " 'difference',\n",
              " 'life',\n",
              " 'individual',\n",
              " 'actions',\n",
              " 'immense',\n",
              " 'power',\n",
              " 'collective',\n",
              " 'efforts',\n",
              " 'create',\n",
              " 'positive',\n",
              " 'change',\n",
              " 'communities',\n",
              " 'come',\n",
              " 'support',\n",
              " 'incredible',\n",
              " 'things',\n",
              " 'happen',\n",
              " 'grassroots',\n",
              " 'initiatives',\n",
              " 'global',\n",
              " 'movements',\n",
              " 'people',\n",
              " 'uniting',\n",
              " 'tackle',\n",
              " 'pressing',\n",
              " 'social',\n",
              " 'environmental',\n",
              " 'issues',\n",
              " 'driving',\n",
              " 'meaningful',\n",
              " 'progress',\n",
              " 'inspiring',\n",
              " 'hope',\n",
              " 'better',\n",
              " 'future',\n",
              " 'important',\n",
              " 'recognize',\n",
              " 'strength',\n",
              " 'lies',\n",
              " 'ability',\n",
              " 'positive',\n",
              " 'impact',\n",
              " 'small',\n",
              " 'actions',\n",
              " 'tapping',\n",
              " 'innate',\n",
              " 'compassion',\n",
              " 'empathy',\n",
              " 'cultivate',\n",
              " 'culture',\n",
              " 'kindness',\n",
              " 'empathy',\n",
              " 'enriches',\n",
              " 'lives',\n",
              " 'let',\n",
              " 'embrace',\n",
              " 'power',\n",
              " 'kindness',\n",
              " 'strive',\n",
              " 'world',\n",
              " 'better',\n",
              " 'place',\n",
              " 'small',\n",
              " 'act',\n",
              " 'time',\n",
              " 'create',\n",
              " 'brighter',\n",
              " 'compassionate',\n",
              " 'future']"
            ]
          },
          "metadata": {},
          "execution_count": 58
        }
      ]
    },
    {
      "cell_type": "markdown",
      "source": [
        "### **Count Plot: Distribution of Part-of-Speech Tags**"
      ],
      "metadata": {
        "id": "hmLwpbZCLxyu"
      }
    },
    {
      "cell_type": "code",
      "source": [
        "import matplotlib.pyplot as plt\n",
        "import seaborn as sns\n",
        "# Count Plot: Distribution of Part-of-Speech Tags\n",
        "def generate_count_plot(tokens):\n",
        "    pos_tags = [token.pos_ for token in tokens]\n",
        "    plt.figure(figsize=(10, 6))\n",
        "    sns.countplot(x=pos_tags, palette='viridis')\n",
        "    plt.title('Distribution of Part-of-Speech Tags')\n",
        "    plt.xlabel('POS Tags')\n",
        "    plt.ylabel('Count')\n",
        "    plt.xticks(rotation=45)\n",
        "    plt.show()\n",
        "\n",
        "# Call the function to generate the count plot\n",
        "generate_count_plot(doc)"
      ],
      "metadata": {
        "id": "a9XuiSHXc7iJ",
        "colab": {
          "base_uri": "https://localhost:8080/",
          "height": 558
        },
        "outputId": "06c5c51f-758e-4f9c-9020-a5993e10df1e"
      },
      "execution_count": null,
      "outputs": [
        {
          "output_type": "stream",
          "name": "stderr",
          "text": [
            "<ipython-input-59-25e911ba9082>:7: FutureWarning: \n",
            "\n",
            "Passing `palette` without assigning `hue` is deprecated and will be removed in v0.14.0. Assign the `x` variable to `hue` and set `legend=False` for the same effect.\n",
            "\n",
            "  sns.countplot(x=pos_tags, palette='viridis')\n"
          ]
        },
        {
          "output_type": "display_data",
          "data": {
            "text/plain": [
              "<Figure size 1000x600 with 1 Axes>"
            ],
            "image/png": "[encoded data removed]"
          },
          "metadata": {}
        }
      ]
    },
    {
      "cell_type": "markdown",
      "source": [
        "### **Counting Token Frequencies**"
      ],
      "metadata": {
        "id": "wIrk5g7HGsgx"
      }
    },
    {
      "cell_type": "code",
      "source": [
        "from collections import Counter"
      ],
      "metadata": {
        "id": "KvHYqolK5MYj"
      },
      "execution_count": null,
      "outputs": []
    },
    {
      "cell_type": "markdown",
      "source": [
        "### **Counting Word Frequencies**: This cell creates a Counter object called word_freq to count the occurrences of each token in the list of filtered tokens (tokens)."
      ],
      "metadata": {
        "id": "4Gxj7si_G29D"
      }
    },
    {
      "cell_type": "code",
      "source": [
        "word_freq = Counter(tokens)"
      ],
      "metadata": {
        "id": "oAj8GJ5r5O5P"
      },
      "execution_count": null,
      "outputs": []
    },
    {
      "cell_type": "code",
      "source": [
        "word_freq"
      ],
      "metadata": {
        "id": "drd_XQAt5Qg_",
        "colab": {
          "base_uri": "https://localhost:8080/"
        },
        "outputId": "3f111a8a-fec5-44e5-8d48-c343735cb107"
      },
      "execution_count": null,
      "outputs": [
        {
          "output_type": "execute_result",
          "data": {
            "text/plain": [
              "Counter({'world': 2,\n",
              "         'dominated': 1,\n",
              "         'negativity': 1,\n",
              "         'important': 2,\n",
              "         'remember': 1,\n",
              "         'power': 3,\n",
              "         'kindness': 5,\n",
              "         'compassion': 2,\n",
              "         'small': 3,\n",
              "         'acts': 1,\n",
              "         'ability': 2,\n",
              "         'brighten': 1,\n",
              "         'day': 1,\n",
              "         'uplift': 1,\n",
              "         'spirits': 1,\n",
              "         'create': 3,\n",
              "         'ripple': 1,\n",
              "         'effect': 1,\n",
              "         'positivity': 1,\n",
              "         'spread': 1,\n",
              "         'far': 1,\n",
              "         'wide': 1,\n",
              "         'smile': 1,\n",
              "         'stranger': 1,\n",
              "         'helping': 1,\n",
              "         'hand': 1,\n",
              "         'friend': 1,\n",
              "         'need': 1,\n",
              "         'thoughtful': 1,\n",
              "         'gesture': 1,\n",
              "         'colleague': 1,\n",
              "         'act': 2,\n",
              "         'potential': 1,\n",
              "         'difference': 1,\n",
              "         'life': 1,\n",
              "         'individual': 1,\n",
              "         'actions': 2,\n",
              "         'immense': 1,\n",
              "         'collective': 1,\n",
              "         'efforts': 1,\n",
              "         'positive': 2,\n",
              "         'change': 1,\n",
              "         'communities': 1,\n",
              "         'come': 1,\n",
              "         'support': 1,\n",
              "         'incredible': 1,\n",
              "         'things': 1,\n",
              "         'happen': 1,\n",
              "         'grassroots': 1,\n",
              "         'initiatives': 1,\n",
              "         'global': 1,\n",
              "         'movements': 1,\n",
              "         'people': 1,\n",
              "         'uniting': 1,\n",
              "         'tackle': 1,\n",
              "         'pressing': 1,\n",
              "         'social': 1,\n",
              "         'environmental': 1,\n",
              "         'issues': 1,\n",
              "         'driving': 1,\n",
              "         'meaningful': 1,\n",
              "         'progress': 1,\n",
              "         'inspiring': 1,\n",
              "         'hope': 1,\n",
              "         'better': 2,\n",
              "         'future': 2,\n",
              "         'recognize': 1,\n",
              "         'strength': 1,\n",
              "         'lies': 1,\n",
              "         'impact': 1,\n",
              "         'matter': 1,\n",
              "         'tapping': 1,\n",
              "         'innate': 1,\n",
              "         'empathy': 2,\n",
              "         'cultivate': 1,\n",
              "         'culture': 1,\n",
              "         'enriches': 1,\n",
              "         'lives': 1,\n",
              "         'let': 1,\n",
              "         'embrace': 1,\n",
              "         'strive': 1,\n",
              "         'place': 1,\n",
              "         'time': 1,\n",
              "         'brighter': 1,\n",
              "         'compassionate': 1})"
            ]
          },
          "metadata": {},
          "execution_count": 16
        }
      ]
    },
    {
      "cell_type": "markdown",
      "source": [
        "### **Finding Maximum Word Frequency** :  This cell calculates the maximum frequency of any word in the text by taking the maximum value from the word_freq Counter object"
      ],
      "metadata": {
        "id": "xl6Ro63UIGpX"
      }
    },
    {
      "cell_type": "code",
      "source": [
        "max_freq = max(word_freq.values())"
      ],
      "metadata": {
        "id": "qUAHIwjV5Seg"
      },
      "execution_count": null,
      "outputs": []
    },
    {
      "cell_type": "code",
      "source": [
        "max_freq"
      ],
      "metadata": {
        "colab": {
          "base_uri": "https://localhost:8080/"
        },
        "id": "BrnawMH75VpL",
        "outputId": "b3b91401-adf3-42b4-d6e5-27fa48ccf64a"
      },
      "execution_count": null,
      "outputs": [
        {
          "output_type": "execute_result",
          "data": {
            "text/plain": [
              "5"
            ]
          },
          "metadata": {},
          "execution_count": 18
        }
      ]
    },
    {
      "cell_type": "markdown",
      "source": [
        "### **Generate word cloud from word frequencies**"
      ],
      "metadata": {
        "id": "NQLB5UOLMHTS"
      }
    },
    {
      "cell_type": "code",
      "source": [
        "from wordcloud import WordCloud\n",
        "import matplotlib.pyplot as plt\n",
        "\n",
        "def generate_wordcloud(word_freq):\n",
        "    # Generate word cloud from word frequencies\n",
        "    wordcloud = WordCloud(width=800, height=400, background_color ='white').generate_from_frequencies(word_freq)\n",
        "\n",
        "    # Display the word cloud\n",
        "    plt.figure(figsize=(10, 5))\n",
        "    plt.imshow(wordcloud, interpolation='bilinear')\n",
        "    plt.axis('off')\n",
        "    plt.show()\n",
        "\n",
        "# Call the function to generate the word cloud\n",
        "generate_wordcloud(word_freq)\n"
      ],
      "metadata": {
        "id": "DVHdEFQ_aPVo",
        "colab": {
          "base_uri": "https://localhost:8080/",
          "height": 422
        },
        "outputId": "6fb11e6f-b5a0-4e44-84f0-e6f262434ada"
      },
      "execution_count": null,
      "outputs": [
        {
          "output_type": "display_data",
          "data": {
            "text/plain": [
              "<Figure size 1000x500 with 1 Axes>"
            ],
            "image/png": "[encoded data removed]"
          },
          "metadata": {}
        }
      ]
    },
    {
      "cell_type": "markdown",
      "source": [
        "### **Normalizing Word Frequencies** : This loop iterates through each word in the word_freq Counter object and normalizes its frequency by dividing it by the maximum frequency (max_freq) calculated earlier."
      ],
      "metadata": {
        "id": "8JBZjuM0ISQa"
      }
    },
    {
      "cell_type": "code",
      "source": [
        "for word in word_freq.keys():\n",
        "    word_freq[word] = word_freq[word]/max_freq"
      ],
      "metadata": {
        "id": "ukl4BE2j5XS0"
      },
      "execution_count": null,
      "outputs": []
    },
    {
      "cell_type": "code",
      "source": [
        "word_freq"
      ],
      "metadata": {
        "id": "7q_XEnfD5Y9K",
        "colab": {
          "base_uri": "https://localhost:8080/"
        },
        "outputId": "0a92642b-fb2f-4c95-bcb5-8f799f61b6e5"
      },
      "execution_count": null,
      "outputs": [
        {
          "output_type": "execute_result",
          "data": {
            "text/plain": [
              "Counter({'world': 0.4,\n",
              "         'dominated': 0.2,\n",
              "         'negativity': 0.2,\n",
              "         'important': 0.4,\n",
              "         'remember': 0.2,\n",
              "         'power': 0.6,\n",
              "         'kindness': 1.0,\n",
              "         'compassion': 0.4,\n",
              "         'small': 0.6,\n",
              "         'acts': 0.2,\n",
              "         'ability': 0.4,\n",
              "         'brighten': 0.2,\n",
              "         'day': 0.2,\n",
              "         'uplift': 0.2,\n",
              "         'spirits': 0.2,\n",
              "         'create': 0.6,\n",
              "         'ripple': 0.2,\n",
              "         'effect': 0.2,\n",
              "         'positivity': 0.2,\n",
              "         'spread': 0.2,\n",
              "         'far': 0.2,\n",
              "         'wide': 0.2,\n",
              "         'smile': 0.2,\n",
              "         'stranger': 0.2,\n",
              "         'helping': 0.2,\n",
              "         'hand': 0.2,\n",
              "         'friend': 0.2,\n",
              "         'need': 0.2,\n",
              "         'thoughtful': 0.2,\n",
              "         'gesture': 0.2,\n",
              "         'colleague': 0.2,\n",
              "         'act': 0.4,\n",
              "         'potential': 0.2,\n",
              "         'difference': 0.2,\n",
              "         'life': 0.2,\n",
              "         'individual': 0.2,\n",
              "         'actions': 0.4,\n",
              "         'immense': 0.2,\n",
              "         'collective': 0.2,\n",
              "         'efforts': 0.2,\n",
              "         'positive': 0.4,\n",
              "         'change': 0.2,\n",
              "         'communities': 0.2,\n",
              "         'come': 0.2,\n",
              "         'support': 0.2,\n",
              "         'incredible': 0.2,\n",
              "         'things': 0.2,\n",
              "         'happen': 0.2,\n",
              "         'grassroots': 0.2,\n",
              "         'initiatives': 0.2,\n",
              "         'global': 0.2,\n",
              "         'movements': 0.2,\n",
              "         'people': 0.2,\n",
              "         'uniting': 0.2,\n",
              "         'tackle': 0.2,\n",
              "         'pressing': 0.2,\n",
              "         'social': 0.2,\n",
              "         'environmental': 0.2,\n",
              "         'issues': 0.2,\n",
              "         'driving': 0.2,\n",
              "         'meaningful': 0.2,\n",
              "         'progress': 0.2,\n",
              "         'inspiring': 0.2,\n",
              "         'hope': 0.2,\n",
              "         'better': 0.4,\n",
              "         'future': 0.4,\n",
              "         'recognize': 0.2,\n",
              "         'strength': 0.2,\n",
              "         'lies': 0.2,\n",
              "         'impact': 0.2,\n",
              "         'matter': 0.2,\n",
              "         'tapping': 0.2,\n",
              "         'innate': 0.2,\n",
              "         'empathy': 0.4,\n",
              "         'cultivate': 0.2,\n",
              "         'culture': 0.2,\n",
              "         'enriches': 0.2,\n",
              "         'lives': 0.2,\n",
              "         'let': 0.2,\n",
              "         'embrace': 0.2,\n",
              "         'strive': 0.2,\n",
              "         'place': 0.2,\n",
              "         'time': 0.2,\n",
              "         'brighter': 0.2,\n",
              "         'compassionate': 0.2})"
            ]
          },
          "metadata": {},
          "execution_count": 21
        }
      ]
    },
    {
      "cell_type": "markdown",
      "source": [
        "### **Bar Plot : for top N words**"
      ],
      "metadata": {
        "id": "0M780djPMTID"
      }
    },
    {
      "cell_type": "code",
      "source": [
        "def generate_bar_chart(word_freq, n_top_words=10):\n",
        "    # Select the top N words\n",
        "    top_words = dict(sorted(word_freq.items(), key=lambda item: item[1], reverse=True)[:n_top_words])\n",
        "\n",
        "    # Plotting the bar chart\n",
        "    plt.figure(figsize=(10, 6))\n",
        "    plt.bar(top_words.keys(), top_words.values(), color='darkblue')\n",
        "    plt.xlabel('Words')\n",
        "    plt.ylabel('Frequency')\n",
        "    plt.title(f'Top {n_top_words} Most Frequent Words')\n",
        "    plt.xticks(rotation=45, ha='right')\n",
        "    plt.tight_layout()\n",
        "    plt.show()\n",
        "\n",
        "# Call the function to generate the bar chart\n",
        "generate_bar_chart(word_freq)\n"
      ],
      "metadata": {
        "id": "3jR_UoEKaI0Q",
        "colab": {
          "base_uri": "https://localhost:8080/",
          "height": 607
        },
        "outputId": "293dd0ea-a6bc-45d1-8669-328038ba25c2"
      },
      "execution_count": null,
      "outputs": [
        {
          "output_type": "display_data",
          "data": {
            "text/plain": [
              "<Figure size 1000x600 with 1 Axes>"
            ],
            "image/png": "[encoded data removed]"
          },
          "metadata": {}
        }
      ]
    },
    {
      "cell_type": "markdown",
      "source": [
        "### **Sentence Tokenization** :This line tokenizes the input text into sentences using spaCy's sentence tokenizer (doc.sents) and stores them in the list sent_token."
      ],
      "metadata": {
        "id": "SAymM1X9IkRG"
      }
    },
    {
      "cell_type": "code",
      "source": [
        "sent_token = [sent.text for sent in doc.sents]"
      ],
      "metadata": {
        "id": "AJO5SJm_5aqC"
      },
      "execution_count": null,
      "outputs": []
    },
    {
      "cell_type": "code",
      "source": [
        "\n",
        "sent_token"
      ],
      "metadata": {
        "id": "GStKLNzu5d5V",
        "colab": {
          "base_uri": "https://localhost:8080/"
        },
        "outputId": "2e3c386f-f8bc-4806-dd6b-86b02cccae3f"
      },
      "execution_count": null,
      "outputs": [
        {
          "output_type": "execute_result",
          "data": {
            "text/plain": [
              "[\"In a world often dominated by negativity, it's important to remember the power of kindness and compassion.\",\n",
              " \"Small acts of kindness have the ability to brighten someone's day, uplift spirits, and create a ripple effect of positivity that can spread far and wide.\",\n",
              " \"Whether it's a smile to a stranger, a helping hand to a friend in need, or a thoughtful gesture to a colleague, every act of kindness has the potential to make a difference in someone's life.\",\n",
              " 'Beyond individual actions, there is also immense power in collective efforts to create positive change.',\n",
              " 'When communities come together to support one another, incredible things can happen.',\n",
              " 'From grassroots initiatives to global movements, people are uniting to tackle pressing social and environmental issues, driving meaningful progress and inspiring hope for a better future.',\n",
              " \"It's also important to recognize the strength that lies within each and every one of us.\",\n",
              " 'We all have the ability to make a positive impact, no matter how small our actions may seem.',\n",
              " 'By tapping into our innate compassion and empathy, we can cultivate a culture of kindness and empathy that enriches our lives and those around us.',\n",
              " \"So let's embrace the power of kindness, and strive to make the world a better place one small act at a time.\",\n",
              " 'Together, we can create a brighter, more compassionate future for all.']"
            ]
          },
          "metadata": {},
          "execution_count": 24
        }
      ]
    },
    {
      "cell_type": "markdown",
      "source": [
        "### **Calculate Sentence Scores** : This code calculates scores for each sentence based on the frequency of words in the sentence."
      ],
      "metadata": {
        "id": "kIc4Iz1-I-ew"
      }
    },
    {
      "cell_type": "code",
      "source": [
        "# Initialize an empty dictionary to store sentence scores\n",
        "sent_score = {}\n",
        "\n",
        "# Iterate over each sentence\n",
        "for sent in sent_token:\n",
        "    # Iterate over each word in the sentence\n",
        "    for word in sent.split():\n",
        "        # Check if the word is present in the word frequency dictionary\n",
        "        if word.lower() in word_freq.keys():\n",
        "            # If the sentence is not already in the sent_score dictionary, add it\n",
        "            if sent not in sent_score.keys():\n",
        "                sent_score[sent] = word_freq[word]\n",
        "            # If the sentence is already in the sent_score dictionary, update its score\n",
        "            else:\n",
        "                sent_score[sent] += word_freq[word]\n",
        "        # Print the word (seems like a debugging statement)\n",
        "        print(word)\n"
      ],
      "metadata": {
        "id": "aeok_JQ15gpL",
        "colab": {
          "base_uri": "https://localhost:8080/"
        },
        "outputId": "f693597d-7fbc-452c-878c-10d0ff794b7c"
      },
      "execution_count": null,
      "outputs": [
        {
          "output_type": "stream",
          "name": "stdout",
          "text": [
            "In\n",
            "a\n",
            "world\n",
            "often\n",
            "dominated\n",
            "by\n",
            "negativity,\n",
            "it's\n",
            "important\n",
            "to\n",
            "remember\n",
            "the\n",
            "power\n",
            "of\n",
            "kindness\n",
            "and\n",
            "compassion.\n",
            "Small\n",
            "acts\n",
            "of\n",
            "kindness\n",
            "have\n",
            "the\n",
            "ability\n",
            "to\n",
            "brighten\n",
            "someone's\n",
            "day,\n",
            "uplift\n",
            "spirits,\n",
            "and\n",
            "create\n",
            "a\n",
            "ripple\n",
            "effect\n",
            "of\n",
            "positivity\n",
            "that\n",
            "can\n",
            "spread\n",
            "far\n",
            "and\n",
            "wide.\n",
            "Whether\n",
            "it's\n",
            "a\n",
            "smile\n",
            "to\n",
            "a\n",
            "stranger,\n",
            "a\n",
            "helping\n",
            "hand\n",
            "to\n",
            "a\n",
            "friend\n",
            "in\n",
            "need,\n",
            "or\n",
            "a\n",
            "thoughtful\n",
            "gesture\n",
            "to\n",
            "a\n",
            "colleague,\n",
            "every\n",
            "act\n",
            "of\n",
            "kindness\n",
            "has\n",
            "the\n",
            "potential\n",
            "to\n",
            "make\n",
            "a\n",
            "difference\n",
            "in\n",
            "someone's\n",
            "life.\n",
            "Beyond\n",
            "individual\n",
            "actions,\n",
            "there\n",
            "is\n",
            "also\n",
            "immense\n",
            "power\n",
            "in\n",
            "collective\n",
            "efforts\n",
            "to\n",
            "create\n",
            "positive\n",
            "change.\n",
            "When\n",
            "communities\n",
            "come\n",
            "together\n",
            "to\n",
            "support\n",
            "one\n",
            "another,\n",
            "incredible\n",
            "things\n",
            "can\n",
            "happen.\n",
            "From\n",
            "grassroots\n",
            "initiatives\n",
            "to\n",
            "global\n",
            "movements,\n",
            "people\n",
            "are\n",
            "uniting\n",
            "to\n",
            "tackle\n",
            "pressing\n",
            "social\n",
            "and\n",
            "environmental\n",
            "issues,\n",
            "driving\n",
            "meaningful\n",
            "progress\n",
            "and\n",
            "inspiring\n",
            "hope\n",
            "for\n",
            "a\n",
            "better\n",
            "future.\n",
            "It's\n",
            "also\n",
            "important\n",
            "to\n",
            "recognize\n",
            "the\n",
            "strength\n",
            "that\n",
            "lies\n",
            "within\n",
            "each\n",
            "and\n",
            "every\n",
            "one\n",
            "of\n",
            "us.\n",
            "We\n",
            "all\n",
            "have\n",
            "the\n",
            "ability\n",
            "to\n",
            "make\n",
            "a\n",
            "positive\n",
            "impact,\n",
            "no\n",
            "matter\n",
            "how\n",
            "small\n",
            "our\n",
            "actions\n",
            "may\n",
            "seem.\n",
            "By\n",
            "tapping\n",
            "into\n",
            "our\n",
            "innate\n",
            "compassion\n",
            "and\n",
            "empathy,\n",
            "we\n",
            "can\n",
            "cultivate\n",
            "a\n",
            "culture\n",
            "of\n",
            "kindness\n",
            "and\n",
            "empathy\n",
            "that\n",
            "enriches\n",
            "our\n",
            "lives\n",
            "and\n",
            "those\n",
            "around\n",
            "us.\n",
            "So\n",
            "let's\n",
            "embrace\n",
            "the\n",
            "power\n",
            "of\n",
            "kindness,\n",
            "and\n",
            "strive\n",
            "to\n",
            "make\n",
            "the\n",
            "world\n",
            "a\n",
            "better\n",
            "place\n",
            "one\n",
            "small\n",
            "act\n",
            "at\n",
            "a\n",
            "time.\n",
            "Together,\n",
            "we\n",
            "can\n",
            "create\n",
            "a\n",
            "brighter,\n",
            "more\n",
            "compassionate\n",
            "future\n",
            "for\n",
            "all.\n"
          ]
        }
      ]
    },
    {
      "cell_type": "code",
      "source": [
        "sent_score"
      ],
      "metadata": {
        "id": "-5UUIIyD5i_l",
        "colab": {
          "base_uri": "https://localhost:8080/"
        },
        "outputId": "38b557d7-7a0a-429e-8a34-d39cafa617ec"
      },
      "execution_count": null,
      "outputs": [
        {
          "output_type": "execute_result",
          "data": {
            "text/plain": [
              "{\"In a world often dominated by negativity, it's important to remember the power of kindness and compassion.\": 2.8,\n",
              " \"Small acts of kindness have the ability to brighten someone's day, uplift spirits, and create a ripple effect of positivity that can spread far and wide.\": 3.600000000000001,\n",
              " \"Whether it's a smile to a stranger, a helping hand to a friend in need, or a thoughtful gesture to a colleague, every act of kindness has the potential to make a difference in someone's life.\": 3.0000000000000004,\n",
              " 'Beyond individual actions, there is also immense power in collective efforts to create positive change.': 2.4,\n",
              " 'When communities come together to support one another, incredible things can happen.': 1.0,\n",
              " 'From grassroots initiatives to global movements, people are uniting to tackle pressing social and environmental issues, driving meaningful progress and inspiring hope for a better future.': 3.2,\n",
              " \"It's also important to recognize the strength that lies within each and every one of us.\": 1.0,\n",
              " 'We all have the ability to make a positive impact, no matter how small our actions may seem.': 2.0,\n",
              " 'By tapping into our innate compassion and empathy, we can cultivate a culture of kindness and empathy that enriches our lives and those around us.': 3.0000000000000004,\n",
              " \"So let's embrace the power of kindness, and strive to make the world a better place one small act at a time.\": 2.9999999999999996,\n",
              " 'Together, we can create a brighter, more compassionate future for all.': 1.2000000000000002}"
            ]
          },
          "metadata": {},
          "execution_count": 26
        }
      ]
    },
    {
      "cell_type": "markdown",
      "source": [
        "### **Display Sentence Scores** : This code creates a Pandas DataFrame to display the scores of each sentence calculated in the previous step."
      ],
      "metadata": {
        "id": "CaEyX-1lJa0u"
      }
    },
    {
      "cell_type": "code",
      "source": [
        "import pandas as pd"
      ],
      "metadata": {
        "id": "RRmoWkL95l9h"
      },
      "execution_count": null,
      "outputs": []
    },
    {
      "cell_type": "code",
      "source": [
        "# Create a DataFrame from the sent_score dictionary\n",
        "pd.DataFrame(list(sent_score.items()),columns=['Sentence','Score'])"
      ],
      "metadata": {
        "id": "WSgb8U9s5ogV",
        "colab": {
          "base_uri": "https://localhost:8080/",
          "height": 394
        },
        "outputId": "6c470e82-dd6a-483e-9a71-c0fd5dd1e924"
      },
      "execution_count": null,
      "outputs": [
        {
          "output_type": "execute_result",
          "data": {
            "text/plain": [
              "                                             Sentence  Score\n",
              "0   In a world often dominated by negativity, it's...    2.8\n",
              "1   Small acts of kindness have the ability to bri...    3.6\n",
              "2   Whether it's a smile to a stranger, a helping ...    3.0\n",
              "3   Beyond individual actions, there is also immen...    2.4\n",
              "4   When communities come together to support one ...    1.0\n",
              "5   From grassroots initiatives to global movement...    3.2\n",
              "6   It's also important to recognize the strength ...    1.0\n",
              "7   We all have the ability to make a positive imp...    2.0\n",
              "8   By tapping into our innate compassion and empa...    3.0\n",
              "9   So let's embrace the power of kindness, and st...    3.0\n",
              "10  Together, we can create a brighter, more compa...    1.2"
            ],
            "text/html": [
              "\n",
              "  <div id=\"df-21973fd0-bf1c-41e5-87c7-0fdfc44d6fa4\" class=\"colab-df-container\">\n",
              "    <div>\n",
              "<style scoped>\n",
              "    .dataframe tbody tr th:only-of-type {\n",
              "        vertical-align: middle;\n",
              "    }\n",
              "\n",
              "    .dataframe tbody tr th {\n",
              "        vertical-align: top;\n",
              "    }\n",
              "\n",
              "    .dataframe thead th {\n",
              "        text-align: right;\n",
              "    }\n",
              "</style>\n",
              "<table border=\"1\" class=\"dataframe\">\n",
              "  <thead>\n",
              "    <tr style=\"text-align: right;\">\n",
              "      <th></th>\n",
              "      <th>Sentence</th>\n",
              "      <th>Score</th>\n",
              "    </tr>\n",
              "  </thead>\n",
              "  <tbody>\n",
              "    <tr>\n",
              "      <th>0</th>\n",
              "      <td>In a world often dominated by negativity, it's...</td>\n",
              "      <td>2.8</td>\n",
              "    </tr>\n",
              "    <tr>\n",
              "      <th>1</th>\n",
              "      <td>Small acts of kindness have the ability to bri...</td>\n",
              "      <td>3.6</td>\n",
              "    </tr>\n",
              "    <tr>\n",
              "      <th>2</th>\n",
              "      <td>Whether it's a smile to a stranger, a helping ...</td>\n",
              "      <td>3.0</td>\n",
              "    </tr>\n",
              "    <tr>\n",
              "      <th>3</th>\n",
              "      <td>Beyond individual actions, there is also immen...</td>\n",
              "      <td>2.4</td>\n",
              "    </tr>\n",
              "    <tr>\n",
              "      <th>4</th>\n",
              "      <td>When communities come together to support one ...</td>\n",
              "      <td>1.0</td>\n",
              "    </tr>\n",
              "    <tr>\n",
              "      <th>5</th>\n",
              "      <td>From grassroots initiatives to global movement...</td>\n",
              "      <td>3.2</td>\n",
              "    </tr>\n",
              "    <tr>\n",
              "      <th>6</th>\n",
              "      <td>It's also important to recognize the strength ...</td>\n",
              "      <td>1.0</td>\n",
              "    </tr>\n",
              "    <tr>\n",
              "      <th>7</th>\n",
              "      <td>We all have the ability to make a positive imp...</td>\n",
              "      <td>2.0</td>\n",
              "    </tr>\n",
              "    <tr>\n",
              "      <th>8</th>\n",
              "      <td>By tapping into our innate compassion and empa...</td>\n",
              "      <td>3.0</td>\n",
              "    </tr>\n",
              "    <tr>\n",
              "      <th>9</th>\n",
              "      <td>So let's embrace the power of kindness, and st...</td>\n",
              "      <td>3.0</td>\n",
              "    </tr>\n",
              "    <tr>\n",
              "      <th>10</th>\n",
              "      <td>Together, we can create a brighter, more compa...</td>\n",
              "      <td>1.2</td>\n",
              "    </tr>\n",
              "  </tbody>\n",
              "</table>\n",
              "</div>\n",
              "    <div class=\"colab-df-buttons\">\n",
              "\n",
              "  <div class=\"colab-df-container\">\n",
              "    <button class=\"colab-df-convert\" onclick=\"convertToInteractive('df-21973fd0-bf1c-41e5-87c7-0fdfc44d6fa4')\"\n",
              "            title=\"Convert this dataframe to an interactive table.\"\n",
              "            style=\"display:none;\">\n",
              "\n",
              "  <svg xmlns=\"http://www.w3.org/2000/svg\" height=\"24px\" viewBox=\"0 -960 960 960\">\n",
              "    <path d=\"M120-120v-720h720v720H120Zm60-500h600v-160H180v160Zm220 220h160v-160H400v160Zm0 220h160v-160H400v160ZM180-400h160v-160H180v160Zm440 0h160v-160H620v160ZM180-180h160v-160H180v160Zm440 0h160v-160H620v160Z\"/>\n",
              "  </svg>\n",
              "    </button>\n",
              "\n",
              "  <style>\n",
              "    .colab-df-container {\n",
              "      display:flex;\n",
              "      gap: 12px;\n",
              "    }\n",
              "\n",
              "    .colab-df-convert {\n",
              "      background-color: #E8F0FE;\n",
              "      border: none;\n",
              "      border-radius: 50%;\n",
              "      cursor: pointer;\n",
              "      display: none;\n",
              "      fill: #1967D2;\n",
              "      height: 32px;\n",
              "      padding: 0 0 0 0;\n",
              "      width: 32px;\n",
              "    }\n",
              "\n",
              "    .colab-df-convert:hover {\n",
              "      background-color: #E2EBFA;\n",
              "      box-shadow: 0px 1px 2px rgba(60, 64, 67, 0.3), 0px 1px 3px 1px rgba(60, 64, 67, 0.15);\n",
              "      fill: #174EA6;\n",
              "    }\n",
              "\n",
              "    .colab-df-buttons div {\n",
              "      margin-bottom: 4px;\n",
              "    }\n",
              "\n",
              "    [theme=dark] .colab-df-convert {\n",
              "      background-color: #3B4455;\n",
              "      fill: #D2E3FC;\n",
              "    }\n",
              "\n",
              "    [theme=dark] .colab-df-convert:hover {\n",
              "      background-color: #434B5C;\n",
              "      box-shadow: 0px 1px 3px 1px rgba(0, 0, 0, 0.15);\n",
              "      filter: drop-shadow(0px 1px 2px rgba(0, 0, 0, 0.3));\n",
              "      fill: #FFFFFF;\n",
              "    }\n",
              "  </style>\n",
              "\n",
              "    <script>\n",
              "      const buttonEl =\n",
              "        document.querySelector('#df-21973fd0-bf1c-41e5-87c7-0fdfc44d6fa4 button.colab-df-convert');\n",
              "      buttonEl.style.display =\n",
              "        google.colab.kernel.accessAllowed ? 'block' : 'none';\n",
              "\n",
              "      async function convertToInteractive(key) {\n",
              "        const element = document.querySelector('#df-21973fd0-bf1c-41e5-87c7-0fdfc44d6fa4');\n",
              "        const dataTable =\n",
              "          await google.colab.kernel.invokeFunction('convertToInteractive',\n",
              "                                                    [key], {});\n",
              "        if (!dataTable) return;\n",
              "\n",
              "        const docLinkHtml = 'Like what you see? Visit the ' +\n",
              "          '<a target=\"_blank\" href=https://colab.research.google.com/notebooks/data_table.ipynb>data table notebook</a>'\n",
              "          + ' to learn more about interactive tables.';\n",
              "        element.innerHTML = '';\n",
              "        dataTable['output_type'] = 'display_data';\n",
              "        await google.colab.output.renderOutput(dataTable, element);\n",
              "        const docLink = document.createElement('div');\n",
              "        docLink.innerHTML = docLinkHtml;\n",
              "        element.appendChild(docLink);\n",
              "      }\n",
              "    </script>\n",
              "  </div>\n",
              "\n",
              "\n",
              "<div id=\"df-e2d426e2-405a-42e4-9d17-abb7cb8d01f4\">\n",
              "  <button class=\"colab-df-quickchart\" onclick=\"quickchart('df-e2d426e2-405a-42e4-9d17-abb7cb8d01f4')\"\n",
              "            title=\"Suggest charts\"\n",
              "            style=\"display:none;\">\n",
              "\n",
              "<svg xmlns=\"http://www.w3.org/2000/svg\" height=\"24px\"viewBox=\"0 0 24 24\"\n",
              "     width=\"24px\">\n",
              "    <g>\n",
              "        <path d=\"M19 3H5c-1.1 0-2 .9-2 2v14c0 1.1.9 2 2 2h14c1.1 0 2-.9 2-2V5c0-1.1-.9-2-2-2zM9 17H7v-7h2v7zm4 0h-2V7h2v10zm4 0h-2v-4h2v4z\"/>\n",
              "    </g>\n",
              "</svg>\n",
              "  </button>\n",
              "\n",
              "<style>\n",
              "  .colab-df-quickchart {\n",
              "      --bg-color: #E8F0FE;\n",
              "      --fill-color: #1967D2;\n",
              "      --hover-bg-color: #E2EBFA;\n",
              "      --hover-fill-color: #174EA6;\n",
              "      --disabled-fill-color: #AAA;\n",
              "      --disabled-bg-color: #DDD;\n",
              "  }\n",
              "\n",
              "  [theme=dark] .colab-df-quickchart {\n",
              "      --bg-color: #3B4455;\n",
              "      --fill-color: #D2E3FC;\n",
              "      --hover-bg-color: #434B5C;\n",
              "      --hover-fill-color: #FFFFFF;\n",
              "      --disabled-bg-color: #3B4455;\n",
              "      --disabled-fill-color: #666;\n",
              "  }\n",
              "\n",
              "  .colab-df-quickchart {\n",
              "    background-color: var(--bg-color);\n",
              "    border: none;\n",
              "    border-radius: 50%;\n",
              "    cursor: pointer;\n",
              "    display: none;\n",
              "    fill: var(--fill-color);\n",
              "    height: 32px;\n",
              "    padding: 0;\n",
              "    width: 32px;\n",
              "  }\n",
              "\n",
              "  .colab-df-quickchart:hover {\n",
              "    background-color: var(--hover-bg-color);\n",
              "    box-shadow: 0 1px 2px rgba(60, 64, 67, 0.3), 0 1px 3px 1px rgba(60, 64, 67, 0.15);\n",
              "    fill: var(--button-hover-fill-color);\n",
              "  }\n",
              "\n",
              "  .colab-df-quickchart-complete:disabled,\n",
              "  .colab-df-quickchart-complete:disabled:hover {\n",
              "    background-color: var(--disabled-bg-color);\n",
              "    fill: var(--disabled-fill-color);\n",
              "    box-shadow: none;\n",
              "  }\n",
              "\n",
              "  .colab-df-spinner {\n",
              "    border: 2px solid var(--fill-color);\n",
              "    border-color: transparent;\n",
              "    border-bottom-color: var(--fill-color);\n",
              "    animation:\n",
              "      spin 1s steps(1) infinite;\n",
              "  }\n",
              "\n",
              "  @keyframes spin {\n",
              "    0% {\n",
              "      border-color: transparent;\n",
              "      border-bottom-color: var(--fill-color);\n",
              "      border-left-color: var(--fill-color);\n",
              "    }\n",
              "    20% {\n",
              "      border-color: transparent;\n",
              "      border-left-color: var(--fill-color);\n",
              "      border-top-color: var(--fill-color);\n",
              "    }\n",
              "    30% {\n",
              "      border-color: transparent;\n",
              "      border-left-color: var(--fill-color);\n",
              "      border-top-color: var(--fill-color);\n",
              "      border-right-color: var(--fill-color);\n",
              "    }\n",
              "    40% {\n",
              "      border-color: transparent;\n",
              "      border-right-color: var(--fill-color);\n",
              "      border-top-color: var(--fill-color);\n",
              "    }\n",
              "    60% {\n",
              "      border-color: transparent;\n",
              "      border-right-color: var(--fill-color);\n",
              "    }\n",
              "    80% {\n",
              "      border-color: transparent;\n",
              "      border-right-color: var(--fill-color);\n",
              "      border-bottom-color: var(--fill-color);\n",
              "    }\n",
              "    90% {\n",
              "      border-color: transparent;\n",
              "      border-bottom-color: var(--fill-color);\n",
              "    }\n",
              "  }\n",
              "</style>\n",
              "\n",
              "  <script>\n",
              "    async function quickchart(key) {\n",
              "      const quickchartButtonEl =\n",
              "        document.querySelector('#' + key + ' button');\n",
              "      quickchartButtonEl.disabled = true;  // To prevent multiple clicks.\n",
              "      quickchartButtonEl.classList.add('colab-df-spinner');\n",
              "      try {\n",
              "        const charts = await google.colab.kernel.invokeFunction(\n",
              "            'suggestCharts', [key], {});\n",
              "      } catch (error) {\n",
              "        console.error('Error during call to suggestCharts:', error);\n",
              "      }\n",
              "      quickchartButtonEl.classList.remove('colab-df-spinner');\n",
              "      quickchartButtonEl.classList.add('colab-df-quickchart-complete');\n",
              "    }\n",
              "    (() => {\n",
              "      let quickchartButtonEl =\n",
              "        document.querySelector('#df-e2d426e2-405a-42e4-9d17-abb7cb8d01f4 button');\n",
              "      quickchartButtonEl.style.display =\n",
              "        google.colab.kernel.accessAllowed ? 'block' : 'none';\n",
              "    })();\n",
              "  </script>\n",
              "</div>\n",
              "    </div>\n",
              "  </div>\n"
            ],
            "application/vnd.google.colaboratory.intrinsic+json": {
              "type": "dataframe",
              "summary": "{\n  \"name\": \"pd\",\n  \"rows\": 11,\n  \"fields\": [\n    {\n      \"column\": \"Sentence\",\n      \"properties\": {\n        \"dtype\": \"string\",\n        \"num_unique_values\": 11,\n        \"samples\": [\n          \"From grassroots initiatives to global movements, people are uniting to tackle pressing social and environmental issues, driving meaningful progress and inspiring hope for a better future.\",\n          \"In a world often dominated by negativity, it's important to remember the power of kindness and compassion.\",\n          \"So let's embrace the power of kindness, and strive to make the world a better place one small act at a time.\"\n        ],\n        \"semantic_type\": \"\",\n        \"description\": \"\"\n      }\n    },\n    {\n      \"column\": \"Score\",\n      \"properties\": {\n        \"dtype\": \"number\",\n        \"std\": 0.9400193421607684,\n        \"min\": 1.0,\n        \"max\": 3.600000000000001,\n        \"num_unique_values\": 9,\n        \"samples\": [\n          2.9999999999999996,\n          3.600000000000001,\n          3.2\n        ],\n        \"semantic_type\": \"\",\n        \"description\": \"\"\n      }\n    }\n  ]\n}"
            }
          },
          "metadata": {},
          "execution_count": 28
        }
      ]
    },
    {
      "cell_type": "markdown",
      "source": [
        "### **Histogram : Distribution of sentence scores**"
      ],
      "metadata": {
        "id": "DUd1HWjfMclJ"
      }
    },
    {
      "cell_type": "code",
      "source": [
        "def generate_histogram(sent_score):\n",
        "    # Extracting the scores from the sent_score dictionary\n",
        "    scores = list(sent_score.values())\n",
        "\n",
        "    # Plotting the histogram\n",
        "    plt.figure(figsize=(10, 6))\n",
        "    plt.hist(scores, bins=20, color='green', edgecolor='black', alpha=0.7)\n",
        "    plt.title('Distribution of Sentence Scores')\n",
        "    plt.xlabel('Sentence Score')\n",
        "    plt.ylabel('Frequency')\n",
        "    plt.grid(True)\n",
        "    plt.show()\n",
        "\n",
        "# Call the function to generate the histogram\n",
        "generate_histogram(sent_score)\n"
      ],
      "metadata": {
        "id": "mlnfAgsQa_uv",
        "colab": {
          "base_uri": "https://localhost:8080/",
          "height": 564
        },
        "outputId": "45fb5edc-6d6f-4275-a67f-bfa0d4ea4263"
      },
      "execution_count": null,
      "outputs": [
        {
          "output_type": "display_data",
          "data": {
            "text/plain": [
              "<Figure size 1000x600 with 1 Axes>"
            ],
            "image/png": "[encoded data removed]"
          },
          "metadata": {}
        }
      ]
    },
    {
      "cell_type": "markdown",
      "source": [
        "### **Select Top Scoring Sentences** : This code selects the top-scoring sentences based on the scores calculated earlier and the number of sentences specified by the user."
      ],
      "metadata": {
        "id": "MWe3xfA7Jnq1"
      }
    },
    {
      "cell_type": "code",
      "source": [
        "# Number of sentences to select\n",
        "from heapq import nlargest"
      ],
      "metadata": {
        "id": "Dz0WxFry5rQC"
      },
      "execution_count": null,
      "outputs": []
    },
    {
      "cell_type": "code",
      "source": [
        "# Select the top-scoring sentences\n",
        "num_sentences =3\n",
        "\n",
        "# Select the top-scoring sentences\n",
        "n = nlargest(num_sentences,sent_score,key=sent_score.get)"
      ],
      "metadata": {
        "id": "HG2Emgdp5thz"
      },
      "execution_count": null,
      "outputs": []
    },
    {
      "cell_type": "code",
      "source": [
        "# Join the selected sentences into a single string\n",
        "\" \".join(n)"
      ],
      "metadata": {
        "id": "xqAD-YGO5vZB",
        "colab": {
          "base_uri": "https://localhost:8080/",
          "height": 90
        },
        "outputId": "d402fdc7-196d-45a5-fff4-899816c71229"
      },
      "execution_count": null,
      "outputs": [
        {
          "output_type": "execute_result",
          "data": {
            "text/plain": [
              "\"Small acts of kindness have the ability to brighten someone's day, uplift spirits, and create a ripple effect of positivity that can spread far and wide. From grassroots initiatives to global movements, people are uniting to tackle pressing social and environmental issues, driving meaningful progress and inspiring hope for a better future. Whether it's a smile to a stranger, a helping hand to a friend in need, or a thoughtful gesture to a colleague, every act of kindness has the potential to make a difference in someone's life.\""
            ],
            "application/vnd.google.colaboratory.intrinsic+json": {
              "type": "string"
            }
          },
          "metadata": {},
          "execution_count": 32
        }
      ]
    },
    {
      "cell_type": "markdown",
      "source": [
        "### **Text Summarization Widget** : This code snippet creates an interactive widget for text summarization using spaCy"
      ],
      "metadata": {
        "id": "v4CSA-BHKLdG"
      }
    },
    {
      "cell_type": "code",
      "source": [
        "import spacy\n",
        "from spacy.lang.en.stop_words import STOP_WORDS\n",
        "from string import punctuation\n",
        "from collections import Counter\n",
        "from heapq import nlargest\n",
        "import ipywidgets as widgets\n",
        "from IPython.display import display, clear_output\n",
        "\n",
        "# Function to summarize text\n",
        "def summarize_text(text, num_sentences):\n",
        "    # Loading spaCy model\n",
        "    nlp = spacy.load('en_core_web_sm')\n",
        "\n",
        "    # Tokenization and removing stopwords\n",
        "    doc = nlp(text)\n",
        "    tokens = [token.text.lower() for token in doc\n",
        "              if not token.is_stop and not token.is_punct and token.text != '\\n']\n",
        "\n",
        "    # Calculating word frequency\n",
        "    word_freq = Counter(tokens)\n",
        "    if not word_freq:\n",
        "        print(\"No words found in the text.\")\n",
        "        return\n",
        "\n",
        "    max_freq = max(word_freq.values())\n",
        "    for word in word_freq.keys():\n",
        "        word_freq[word] = word_freq[word]/max_freq\n",
        "\n",
        "    # Sentence tokenization\n",
        "    sent_token = [sent.text for sent in doc.sents]\n",
        "\n",
        "    sent_score = {}\n",
        "    for sent in sent_token:\n",
        "        for word in sent.split():\n",
        "            if word.lower() in word_freq.keys():\n",
        "                if sent not in sent_score.keys():\n",
        "                    sent_score[sent] = word_freq[word]\n",
        "                else:\n",
        "                    sent_score[sent] += word_freq[word]\n",
        "\n",
        "    # Select top-scoring sentences based on user input\n",
        "    summarized_sentences = nlargest(num_sentences, sent_score, key=sent_score.get)\n",
        "\n",
        "    # Display summarized text\n",
        "    summarized_text = \" \".join(summarized_sentences)\n",
        "    return summarized_text\n",
        "\n",
        "# Create input widgets with custom styling\n",
        "text_widget = widgets.Textarea(\n",
        "    value='',\n",
        "    placeholder='Enter your text here',\n",
        "    description='Input Text:',\n",
        "    disabled=False,\n",
        "    layout=widgets.Layout(width='80%', height='200px')\n",
        ")\n",
        "\n",
        "num_sentences_widget = widgets.IntSlider(\n",
        "    value=3,\n",
        "    min=1,\n",
        "    max=10,\n",
        "    step=1,\n",
        "    description='Num Sentences:',\n",
        "    disabled=False,\n",
        "    continuous_update=False,\n",
        "    orientation='horizontal',\n",
        "    readout=True,\n",
        "    readout_format='d',\n",
        "    style={'description_width': 'initial', 'width': '80%'}\n",
        ")\n",
        "\n",
        "# Create output widget with custom styling\n",
        "output_text = widgets.Textarea(\n",
        "    value='',\n",
        "    placeholder='Summarized Text',\n",
        "    description='Summary:',\n",
        "    disabled=True,\n",
        "    layout=widgets.Layout(width='80%', height='150px')\n",
        ")\n",
        "\n",
        "# Function to handle button click event\n",
        "def on_button_clicked(b):\n",
        "    summarized_text = summarize_text(text_widget.value, num_sentences_widget.value)\n",
        "    output_text.value = summarized_text\n",
        "\n",
        "# Create button widget with custom styling\n",
        "button = widgets.Button(\n",
        "    description='Summarize',\n",
        "    disabled=False,\n",
        "    button_style='info',\n",
        "    tooltip='Click to summarize',\n",
        "    icon=''\n",
        ")\n",
        "\n",
        "button.on_click(on_button_clicked)\n",
        "\n",
        "# Create a box container to organize the widgets\n",
        "input_box = widgets.VBox([text_widget, num_sentences_widget, button])\n",
        "output_box = widgets.VBox([output_text])\n",
        "\n",
        "# Display the input and output boxes\n",
        "display(input_box, output_box)\n"
      ],
      "metadata": {
        "colab": {
          "base_uri": "https://localhost:8080/",
          "height": 439,
          "referenced_widgets": [
            "a8282fadd82242739c72db121f9a04aa",
            "c0582c09d974456ba25833282f2a6948",
            "859fb7284a264695885411343fcea591",
            "d31a1c2ef40b4da9a08784b90a3a1a6f",
            "e12eca528cba40d280ff10783c3fca54",
            "beca25e7bdfe498a8cb70f303ad0d993",
            "8a91a4a2c748460ba93ec02a00d3dad6",
            "d87e097e51c14df7a7c25824bc2a63e1",
            "d4ca100ddea3423f9078073f5d1cee73",
            "1af7de7be68c4337a0e031959b4b984d",
            "150b4df104774034803fde82b06e6d2f",
            "ba3aea24ec6b449da9dd710cd56b48de",
            "9603c4ed7a1c48418fae9fdcc4d60b3a",
            "6851f9382943485e958d7165899c1c03",
            "9170f530367d4e1c97d3214c8dc4924c",
            "2271ee72731941b5bd7d57768dd0b318"
          ]
        },
        "id": "EvYjPuwVCZvZ",
        "outputId": "641c4235-f164-4cb1-aa74-86bc9a8d4424"
      },
      "execution_count": null,
      "outputs": [
        {
          "output_type": "display_data",
          "data": {
            "text/plain": [
              "VBox(children=(Textarea(value='', description='Input Text:', layout=Layout(height='200px', width='80%'), place…"
            ],
            "application/vnd.jupyter.widget-view+json": {
              "version_major": 2,
              "version_minor": 0,
              "model_id": "a8282fadd82242739c72db121f9a04aa"
            }
          },
          "metadata": {}
        },
        {
          "output_type": "display_data",
          "data": {
            "text/plain": [
              "VBox(children=(Textarea(value='', description='Summary:', disabled=True, layout=Layout(height='150px', width='…"
            ],
            "application/vnd.jupyter.widget-view+json": {
              "version_major": 2,
              "version_minor": 0,
              "model_id": "ba3aea24ec6b449da9dd710cd56b48de"
            }
          },
          "metadata": {}
        }
      ]
    },
    {
      "cell_type": "markdown",
      "source": [
        "### **Text Summarization with Transformers** : This code snippet demonstrates text summarization using the Hugging Face Transformers library."
      ],
      "metadata": {
        "id": "Al3mIzZK6lFF"
      }
    },
    {
      "cell_type": "code",
      "source": [
        "from transformers import pipeline"
      ],
      "metadata": {
        "id": "If7ra7FF5z6w"
      },
      "execution_count": null,
      "outputs": []
    },
    {
      "cell_type": "markdown",
      "source": [
        "### **Initialize Text Summarization Pipeline with T5 Model**"
      ],
      "metadata": {
        "id": "rtS4b-8VM1j1"
      }
    },
    {
      "cell_type": "code",
      "source": [
        "summarizer=pipeline(\"summarization\",model='t5-base',tokenizer='t5-base',framework='pt')"
      ],
      "metadata": {
        "id": "UGFe2mEa6tSy",
        "colab": {
          "base_uri": "https://localhost:8080/",
          "height": 305,
          "referenced_widgets": [
            "ce13767bf40b445baa62d7b8e92c7c1a",
            "08b4e2867d4848bc8ba36bd675f1115c",
            "965176111cf04c1d8ad96e6bbc5ff6e5",
            "a4d4cbe2e50a4d3287bc9163a4101e1e",
            "882add441ca3481cb7133f10cf5c4d69",
            "b1c32ca64ddf4592bccca721d558ae7f",
            "d2577187963f41ce9d3f2bad06c866d3",
            "3f76f08fd9d44998acc19333e06e3ac8",
            "c336554a724d470dae9457c8eeb26ea3",
            "ad2560fbe8024bcbbcbde038e5366745",
            "6067659bca6840f2831a8f1770b10309",
            "114fb64072e24d708de2876322197424",
            "455b8bb94fdb43eaa156e817e7c98d2e",
            "f42bd4f2103d425dbf8da5c16b957903",
            "6543069f87ec4854a15d1e1b0b78d1d5",
            "2eb649fd3fd34b8f89b64a52cc523ee3",
            "a856208f1e19477e8487e96077564c22",
            "86c8cea610c041a9ad322d55362cf977",
            "f474093d82214dc3a4b7704a97e2fe27",
            "ceb3bd2004654a48a7c3493b8689badc",
            "e39a144c99b0415e9a1a618ba4588da5",
            "5428b5490a464024a4399dad573dc6b2",
            "262036f4ad2647579c657d0c1b6f4fa1",
            "3a828a09a1a046a9918537ae5296b05c",
            "d2d45b1a959f467cae5ee258f291574d",
            "e2f001d8191a4a1ca6cee82b710a8ec5",
            "8d71d0d5715f4e118741cd0d35153ae2",
            "7923f81b126340b893ecb79bd9b74c67",
            "077a7dc5da16412ab05983d1a8e2c6d3",
            "9251959206c64420b569cc27a55c6dfb",
            "8b861f83a99d458a977cfa4fff68706a",
            "17940dc61f4f41c08c766bc77d1c8fbb",
            "dfdf01df41e34c81b45c17d624b7da89",
            "ee181edd58db486fac0c686c0240142c",
            "eb81975201c04df199e667c92872d231",
            "feb4ae468bc4484bbc53bcfa2c5e2ce6",
            "c11bc791c450433786ff966c0e352e89",
            "09b8ab79fec74b1dad719bec23b43c65",
            "7ff7bed7ba84437f9dca8666da7ec40a",
            "bf445c01ef6e4c7b818e0aa93afb9dd7",
            "f29e4eb1f8464678bdb34418f75fb53b",
            "a3467c29ee74471a87c12fe7d2c82953",
            "7bb7e25e066044b285a8112fd47b86cc",
            "b7f1230a33d6484f94351af5e26a6063",
            "ae232a8f3f4f457f9013e30ad7bf1355",
            "7098f266ea614fb191a740516afcb554",
            "b631474c487e4b0abd884a3bc80c244c",
            "5d96eae2cd9f411ab981bc140132f882",
            "007c4e4eec2140a39f076ea249755c8a",
            "efa9140d3ad34f40a12d7d817487e2fd",
            "7e893a252d21401da2b74ae3443ac126",
            "a885602ff5774c458821b13790732e1d",
            "f8147facf06d45c4842349788af8f7c7",
            "105f4f3e3aa147ccad6cc27149963758",
            "585c4929d134471f803aea3239f9784f"
          ]
        },
        "outputId": "66744ed1-dde0-41de-f821-630e8addb5d4"
      },
      "execution_count": null,
      "outputs": [
        {
          "output_type": "stream",
          "name": "stderr",
          "text": [
            "/usr/local/lib/python3.10/dist-packages/huggingface_hub/utils/_token.py:88: UserWarning: \n",
            "The secret `HF_TOKEN` does not exist in your Colab secrets.\n",
            "To authenticate with the Hugging Face Hub, create a token in your settings tab (https://huggingface.co/settings/tokens), set it as secret in your Google Colab and restart your session.\n",
            "You will be able to reuse this secret in all of your notebooks.\n",
            "Please note that authentication is recommended but still optional to access public models or datasets.\n",
            "  warnings.warn(\n"
          ]
        },
        {
          "output_type": "display_data",
          "data": {
            "text/plain": [
              "config.json:   0%|          | 0.00/1.21k [00:00<?, ?B/s]"
            ],
            "application/vnd.jupyter.widget-view+json": {
              "version_major": 2,
              "version_minor": 0,
              "model_id": "ce13767bf40b445baa62d7b8e92c7c1a"
            }
          },
          "metadata": {}
        },
        {
          "output_type": "display_data",
          "data": {
            "text/plain": [
              "model.safetensors:   0%|          | 0.00/892M [00:00<?, ?B/s]"
            ],
            "application/vnd.jupyter.widget-view+json": {
              "version_major": 2,
              "version_minor": 0,
              "model_id": "114fb64072e24d708de2876322197424"
            }
          },
          "metadata": {}
        },
        {
          "output_type": "display_data",
          "data": {
            "text/plain": [
              "generation_config.json:   0%|          | 0.00/147 [00:00<?, ?B/s]"
            ],
            "application/vnd.jupyter.widget-view+json": {
              "version_major": 2,
              "version_minor": 0,
              "model_id": "262036f4ad2647579c657d0c1b6f4fa1"
            }
          },
          "metadata": {}
        },
        {
          "output_type": "display_data",
          "data": {
            "text/plain": [
              "spiece.model:   0%|          | 0.00/792k [00:00<?, ?B/s]"
            ],
            "application/vnd.jupyter.widget-view+json": {
              "version_major": 2,
              "version_minor": 0,
              "model_id": "ee181edd58db486fac0c686c0240142c"
            }
          },
          "metadata": {}
        },
        {
          "output_type": "display_data",
          "data": {
            "text/plain": [
              "tokenizer.json:   0%|          | 0.00/1.39M [00:00<?, ?B/s]"
            ],
            "application/vnd.jupyter.widget-view+json": {
              "version_major": 2,
              "version_minor": 0,
              "model_id": "ae232a8f3f4f457f9013e30ad7bf1355"
            }
          },
          "metadata": {}
        }
      ]
    },
    {
      "cell_type": "code",
      "source": [
        "text = \"\"\"In a world often dominated by negativity, it's important to remember the power of kindness and compassion. Small acts of kindness have the ability to brighten someone's day, uplift spirits, and create a ripple effect of positivity that can spread far and wide. Whether it's a smile to a stranger, a helping hand to a friend in need, or a thoughtful gesture to a colleague, every act of kindness has the potential to make a difference in someone's life.Beyond individual actions, there is also immense power in collective efforts to create positive change. When communities come together to support one another, incredible things can happen. From grassroots initiatives to global movements, people are uniting to tackle pressing social and environmental issues, driving meaningful progress and inspiring hope for a better future.It's also important to recognize the strength that lies within each and every one of us. We all have the ability to make a positive impact, no matter how small our actions may seem. By tapping into our innate compassion and empathy, we can cultivate a culture of kindness and empathy that enriches our lives and those around us.So let's embrace the power of kindness, and strive to make the world a better place one small act at a time. Together, we can create a brighter, more compassionate future for all.\"\"\""
      ],
      "metadata": {
        "id": "n5dTNnio7FRh"
      },
      "execution_count": null,
      "outputs": []
    },
    {
      "cell_type": "markdown",
      "source": [
        "### **Generate Text Summary Using T5-based Summarization Pipeline**"
      ],
      "metadata": {
        "id": "wQ1DDpVANEZY"
      }
    },
    {
      "cell_type": "code",
      "source": [
        "summary = summarizer(text,max_length=100,min_length=10,do_sample=False)"
      ],
      "metadata": {
        "id": "PNx7FWoP7Hs_"
      },
      "execution_count": null,
      "outputs": []
    },
    {
      "cell_type": "code",
      "source": [
        "print(summary[0]['summary_text'])"
      ],
      "metadata": {
        "id": "xjfG3Sqw7JVB",
        "colab": {
          "base_uri": "https://localhost:8080/"
        },
        "outputId": "6c04ae16-e489-44d3-f3e4-6c7df5e2e797"
      },
      "execution_count": null,
      "outputs": [
        {
          "output_type": "stream",
          "name": "stdout",
          "text": [
            "small acts of kindness can brighten someone's day, uplift spirits, and create a ripple effect of positivity . when communities come together to support one another, incredible things can happen . we all have the ability to make a positive impact, no matter how small our actions may seem .\n"
          ]
        }
      ]
    },
    {
      "cell_type": "markdown",
      "source": [
        "### **Generate Text Summary (Improved Widget UI)**: This code provides an improved user interface for generating text summaries using the T5-based summarization pipeline"
      ],
      "metadata": {
        "id": "a70ewH1nNZow"
      }
    },
    {
      "cell_type": "code",
      "source": [
        "from transformers import pipeline\n",
        "import ipywidgets as widgets\n",
        "from IPython.display import display, clear_output\n",
        "\n",
        "# Initialize the summarizer pipeline\n",
        "summarizer = pipeline(\"summarization\", model=\"t5-base\", tokenizer=\"t5-base\", framework=\"pt\")\n",
        "\n",
        "# Function to summarize text\n",
        "def summarize_text(b):\n",
        "    clear_output(wait=True)\n",
        "    # Get text from the input text box\n",
        "    text = text_widget.value\n",
        "\n",
        "\n",
        "\n",
        "    # Summarize the text\n",
        "    summary = summarizer(text, max_length=100, min_length=10, do_sample=False)\n",
        "\n",
        "    # Update the output text box with the summary\n",
        "    output_text.clear_output()\n",
        "    with output_text:\n",
        "        print(summary[0]['summary_text'])\n",
        "\n",
        "# Create text input widget\n",
        "text_widget = widgets.Textarea(\n",
        "    value='',\n",
        "    placeholder='Enter your text here',\n",
        "    description='Input Text:',\n",
        "    disabled=False,\n",
        "    layout={'height': '100px', 'width': '90%'}\n",
        ")\n",
        "\n",
        "# Create button widget\n",
        "summarize_button = widgets.Button(\n",
        "    description='Summarize',\n",
        "    disabled=False,\n",
        "    button_style='info',\n",
        "    tooltip='Click to summarize',\n",
        "    icon=''\n",
        ")\n",
        "\n",
        "summarize_button.on_click(summarize_text)\n",
        "\n",
        "# Create output text box\n",
        "output_text = widgets.Output(\n",
        "    layout={'border': '1px solid black', 'width': '90%', 'height': '200px'}\n",
        ")\n",
        "\n",
        "# Display widgets\n",
        "display(text_widget)\n",
        "display(summarize_button)\n",
        "display(output_text)\n"
      ],
      "metadata": {
        "id": "k4hfTFK37Nps",
        "colab": {
          "base_uri": "https://localhost:8080/",
          "height": 354,
          "referenced_widgets": [
            "41fa909ecafc470a9bdf21195a577fb9",
            "9b33f6c2ebab4a02ac369eda1b37e304",
            "a8baf966eb4540e2bffe400c5b2ebbb8",
            "5ee38c8c9eba48ccac6265e5735944d6",
            "f2c8999d412245b7b5e1a25a2e662d00",
            "a14815e52d374814a9cbcf8004d00a0d",
            "9b09aebb5d1e4c18b3213a31c1fe47f0",
            "d3116bfef5c04f888b3fa145f37f0d7a"
          ]
        },
        "outputId": "ceb85df3-fc90-4959-df7d-7f85bf365e10"
      },
      "execution_count": null,
      "outputs": [
        {
          "output_type": "display_data",
          "data": {
            "text/plain": [
              "Textarea(value='', description='Input Text:', layout=Layout(height='100px', width='90%'), placeholder='Enter y…"
            ],
            "application/vnd.jupyter.widget-view+json": {
              "version_major": 2,
              "version_minor": 0,
              "model_id": "41fa909ecafc470a9bdf21195a577fb9"
            }
          },
          "metadata": {}
        },
        {
          "output_type": "display_data",
          "data": {
            "text/plain": [
              "Button(button_style='info', description='Summarize', style=ButtonStyle(), tooltip='Click to summarize')"
            ],
            "application/vnd.jupyter.widget-view+json": {
              "version_major": 2,
              "version_minor": 0,
              "model_id": "5ee38c8c9eba48ccac6265e5735944d6"
            }
          },
          "metadata": {}
        },
        {
          "output_type": "display_data",
          "data": {
            "text/plain": [
              "Output(layout=Layout(border='1px solid black', height='200px', width='90%'))"
            ],
            "application/vnd.jupyter.widget-view+json": {
              "version_major": 2,
              "version_minor": 0,
              "model_id": "9b09aebb5d1e4c18b3213a31c1fe47f0"
            }
          },
          "metadata": {}
        }
      ]
    },
    {
      "cell_type": "markdown",
      "source": [
        "### **BLEU SCORE**"
      ],
      "metadata": {
        "id": "8NCcpXSO047l"
      }
    },
    {
      "cell_type": "code",
      "source": [
        "from nltk.translate.bleu_score import sentence_bleu\n",
        "from nltk.tokenize import word_tokenize\n",
        "from transformers import pipeline\n",
        "import nltk\n",
        "nltk.download('punkt')\n",
        "\n",
        "\n",
        "# Initialize the summarization pipeline with T5 model\n",
        "summarizer_t5 = pipeline(\"summarization\", model=\"t5-base\", tokenizer=\"t5-base\", framework=\"pt\")\n",
        "\n",
        "# Input text for summarization\n",
        "text = \"\"\"In a world often dominated by negativity, it's important to remember the power of kindness and compassion. Small acts of kindness have the ability to brighten someone's day, uplift spirits, and create a ripple effect of positivity that can spread far and wide. Whether it's a smile to a stranger, a helping hand to a friend in need, or a thoughtful gesture to a colleague, every act of kindness has the potential to make a difference in someone's life.Beyond individual actions, there is also immense power in collective efforts to create positive change. When communities come together to support one another, incredible things can happen. From grassroots initiatives to global movements, people are uniting to tackle pressing social and environmental issues, driving meaningful progress and inspiring hope for a better future.It's also important to recognize the strength that lies within each and every one of us. We all have the ability to make a positive impact, no matter how small our actions may seem. By tapping into our innate compassion and empathy, we can cultivate a culture of kindness and empathy that enriches our lives and those around us.So let's embrace the power of kindness, and strive to make the world a better place one small act at a time. Together, we can create a brighter, more compassionate future for all.\"\"\"\n",
        "\n",
        "# Reference summary\n",
        "reference_summary = \"In a world often dominated by negativity, it's crucial to remember the potency of kindness and compassion. Every act, no matter how small, can ignite positivity and foster a chain reaction of goodwill. When individuals and communities unite, they wield remarkable power to drive meaningful change, enriching lives and inspiring hope. Let's harness our innate ability to make a difference and cultivate a culture of empathy, creating a brighter future for all through collective kindness.\"\n",
        "\n",
        "# Generate summary using T5 model\n",
        "generated_summary_t5 = summarizer_t5(text, max_length=100, min_length=10, do_sample=False)\n",
        "\n",
        "# Tokenize reference and generated summaries\n",
        "reference_tokens = word_tokenize(reference_summary.lower())\n",
        "generated_tokens_t5 = word_tokenize(generated_summary_t5[0]['summary_text'].lower())\n",
        "\n",
        "# Compute BLEU score for T5 model\n",
        "bleu_score_t5 = sentence_bleu([reference_tokens], generated_tokens_t5)\n",
        "\n",
        "print(\"BLEU Score (T5 Model):\", bleu_score_t5)\n",
        "\n",
        "\n",
        "# Function to compute BLEU score for a given summarization technique\n",
        "def compute_bleu_score(reference_summary, generated_summary):\n",
        "    # Tokenize reference and generated summaries\n",
        "    reference_tokens = word_tokenize(reference_summary.lower())\n",
        "    generated_tokens = word_tokenize(generated_summary.lower())\n",
        "\n",
        "    # Compute BLEU score\n",
        "    bleu_score = sentence_bleu([reference_tokens], generated_tokens)\n",
        "    return bleu_score\n",
        "\n",
        "# Input text for summarization using custom technique\n",
        "text_custom = \"\"\"In a world often dominated by negativity, it's important to remember the power of kindness and compassion. Small acts of kindness have the ability to brighten someone's day, uplift spirits, and create a ripple effect of positivity that can spread far and wide. Whether it's a smile to a stranger, a helping hand to a friend in need, or a thoughtful gesture to a colleague, every act of kindness has the potential to make a difference in someone's life.Beyond individual actions, there is also immense power in collective efforts to create positive change. When communities come together to support one another, incredible things can happen. From grassroots initiatives to global movements, people are uniting to tackle pressing social and environmental issues, driving meaningful progress and inspiring hope for a better future.It's also important to recognize the strength that lies within each and every one of us. We all have the ability to make a positive impact, no matter how small our actions may seem. By tapping into our innate compassion and empathy, we can cultivate a culture of kindness and empathy that enriches our lives and those around us.So let's embrace the power of kindness, and strive to make the world a better place one small act at a time. Together, we can create a brighter, more compassionate future for all.\"\"\"\n",
        "\n",
        "# Generated summary using custom technique\n",
        "generated_summary_custom = \"Small acts of kindness have the ability to brighten someone's day, uplift spirits, and create a ripple effect of positivity that can spread far and wide. From grassroots initiatives to global movements, people are uniting to tackle pressing social and environmental issues, driving meaningful progress and inspiring hope for a better future. Whether it's a smile to a stranger, a helping hand to a friend in need, or a thoughtful gesture to a colleague, every act of kindness has the potential to make a difference in someone's life. By tapping into our innate compassion and empathy, we can cultivate a culture of kindness and empathy that enriches our lives and those around us. So let's embrace the power of kindness, and strive to make the world a better place one small act at a time.\"\n",
        "\n",
        "# Compute BLEU score for custom technique\n",
        "bleu_score_custom = compute_bleu_score(reference_summary, generated_summary_custom)\n",
        "\n",
        "print(\"BLEU Score (Custom Technique):\", bleu_score_custom)\n"
      ],
      "metadata": {
        "colab": {
          "base_uri": "https://localhost:8080/"
        },
        "id": "-bIG1QNSvQzb",
        "outputId": "e7621d9a-93b8-4475-cd01-d85e3207f6aa"
      },
      "execution_count": null,
      "outputs": [
        {
          "output_type": "stream",
          "name": "stderr",
          "text": [
            "[nltk_data] Downloading package punkt to /root/nltk_data...\n",
            "[nltk_data]   Unzipping tokenizers/punkt.zip.\n"
          ]
        },
        {
          "output_type": "stream",
          "name": "stdout",
          "text": [
            "BLEU Score (T5 Model): 0.08265014125067117\n",
            "BLEU Score (Custom Technique): 0.06854494771570986\n"
          ]
        }
      ]
    },
    {
      "cell_type": "markdown",
      "source": [
        "### **ROUGE SCORE**"
      ],
      "metadata": {
        "id": "D7hlz5KV0_vy"
      }
    },
    {
      "cell_type": "code",
      "source": [
        "!pip install rouge\n"
      ],
      "metadata": {
        "colab": {
          "base_uri": "https://localhost:8080/"
        },
        "id": "WKBU0gOZzlEm",
        "outputId": "b5551b88-e2b7-4838-f768-28c9b1a70482"
      },
      "execution_count": null,
      "outputs": [
        {
          "output_type": "stream",
          "name": "stdout",
          "text": [
            "Collecting rouge\n",
            "  Downloading rouge-1.0.1-py3-none-any.whl (13 kB)\n",
            "Requirement already satisfied: six in /usr/local/lib/python3.10/dist-packages (from rouge) (1.16.0)\n",
            "Installing collected packages: rouge\n",
            "Successfully installed rouge-1.0.1\n"
          ]
        }
      ]
    },
    {
      "cell_type": "code",
      "source": [
        "from rouge import Rouge\n",
        "\n",
        "# Reference summary\n",
        "reference_summary = \"In a world often dominated by negativity, it's crucial to remember the potency of kindness and compassion. Every act, no matter how small, can ignite positivity and foster a chain reaction of goodwill. When individuals and communities unite, they wield remarkable power to drive meaningful change, enriching lives and inspiring hope. Let's harness our innate ability to make a difference and cultivate a culture of empathy, creating a brighter future for all through collective kindness.\"\n",
        "\n",
        "# Generated summaries\n",
        "generated_summary_t5 = \"small acts of kindness can brighten someone's day, uplift spirits, and create a ripple effect of positivity . let's embrace the power of kindness, and strive to make the world a better place one small act at a time\"\n",
        "generated_summary_custom = \"Small acts of kindness have the ability to brighten someone's day, uplift spirits, and create a ripple effect of positivity that can spread far and wide. From grassroots initiatives to global movements, people are uniting to tackle pressing social and environmental issues, driving meaningful progress and inspiring hope for a better future. Whether it's a smile to a stranger, a helping hand to a friend in need, or a thoughtful gesture to a colleague, every act of kindness has the potential to make a difference in someone's life. By tapping into our innate compassion and empathy, we can cultivate a culture of kindness and empathy that enriches our lives and those around us. So let's embrace the power of kindness, and strive to make the world a better place one small act at a time.\"\n",
        "\n",
        "# Initialize Rouge\n",
        "rouge = Rouge()\n",
        "h\n",
        "# Calculate ROUGE scores for T5 model\n",
        "scores_t5 = rouge.get_scores(generated_summary_t5, reference_summary)\n",
        "\n",
        "# Calculate ROUGE scores for custom technique\n",
        "scores_custom = rouge.get_scores(generated_summary_custom, reference_summary)\n",
        "\n",
        "# Print ROUGE scores\n",
        "print(\"ROUGE Scores (T5 Model):\", scores_t5)\n",
        "print(\"ROUGE Scores (Custom Technique):\", scores_custom)\n"
      ],
      "metadata": {
        "colab": {
          "base_uri": "https://localhost:8080/"
        },
        "id": "r_0X-51exgcu",
        "outputId": "baf3ee32-28c9-4016-96f6-66340893af6e"
      },
      "execution_count": null,
      "outputs": [
        {
          "output_type": "stream",
          "name": "stdout",
          "text": [
            "ROUGE Scores (T5 Model): [{'rouge-1': {'r': 0.1774193548387097, 'p': 0.3548387096774194, 'f': 0.2365591353405019}, 'rouge-2': {'r': 0.02702702702702703, 'p': 0.05405405405405406, 'f': 0.036036031591592146}, 'rouge-l': {'r': 0.14516129032258066, 'p': 0.2903225806451613, 'f': 0.19354838265232985}}]\n",
            "ROUGE Scores (Custom Technique): [{'rouge-1': {'r': 0.41935483870967744, 'p': 0.27956989247311825, 'f': 0.33548386616774195}, 'rouge-2': {'r': 0.17567567567567569, 'p': 0.1015625, 'f': 0.1287128666444468}, 'rouge-l': {'r': 0.3064516129032258, 'p': 0.20430107526881722, 'f': 0.24516128552258074}}]\n"
          ]
        }
      ]
    },
    {
      "cell_type": "code",
      "source": [],
      "metadata": {
        "id": "X_WFE6Xs7Q27"
      },
      "execution_count": null,
      "outputs": []
    },
    {
      "cell_type": "markdown",
      "source": [
        "### **CONCLUSION**\n",
        "- The T5 model achieves a higher BLEU score (0.0827) than the custom technique (0.0685), indicating better n-gram overlap with the reference summary.\n",
        "- However, the custom technique outperforms the T5 model in ROUGE scores across all metrics (ROUGE-1, ROUGE-2, and ROUGE-L), suggesting superior content relevance and overlap with the reference summary.\n",
        "- The choice between these techniques depends on specific use cases and priorities, such as grammatical correctness (BLEU) or content relevance (ROUGE).\n",
        "- Further optimization and experimentation could enhance the summarization capabilities of both techniques."
      ],
      "metadata": {
        "id": "4AhVX7dJQ7Di"
      }
    }
  ]
}